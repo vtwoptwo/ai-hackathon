{
 "cells": [
  {
   "cell_type": "code",
   "execution_count": 2,
   "metadata": {
    "collapsed": true,
    "ExecuteTime": {
     "end_time": "2023-11-19T12:20:24.516626Z",
     "start_time": "2023-11-19T12:20:24.232685Z"
    }
   },
   "outputs": [],
   "source": [
    "import sys\n",
    "import os\n",
    "import pandas as pd"
   ]
  },
  {
   "cell_type": "code",
   "execution_count": 5,
   "outputs": [],
   "source": [
    "# load csv file\n",
    "csv_ground_truth = pd.read_csv('../data_0611/ground_truth_0611.csvx')"
   ],
   "metadata": {
    "collapsed": false,
    "ExecuteTime": {
     "end_time": "2023-11-19T12:21:07.622460Z",
     "start_time": "2023-11-19T12:21:07.619500Z"
    }
   }
  },
  {
   "cell_type": "code",
   "execution_count": 6,
   "outputs": [
    {
     "data": {
      "text/plain": "                                            File name          Isin Issuer  \\\n0   AB3ZFW - RBC 18-Month EUR Twin Win Autocallabl...  XS1878076543    RBC   \n1   AB5P75 - BNP 2-Year USD Bonus Certificate Wors...  XS2490610263    BNP   \n2   AB5PFT - BNP 2-Year USD Bonus Certificate Wors...  XS2490618670    BNP   \n3   EU2320735_20230302_XS2566031444_Decentia-USD-C...  XS2566031444   Citi   \n4                                    XS2021832634.pdf  XS2021832634    BNP   \n5                                    XS2033997748.pdf  XS2033997748    BNP   \n6                                    XS2317910607.pdf  XS2317910607    BNP   \n7                                    XS2333422389.pdf  XS2333422389    BNP   \n8                                    XS2355961215.pdf  XS2355961215    BNP   \n9                                    XS2358486194.pdf  XS2358486194    BNP   \n10                                   XS2424913601.pdf  XS2424913601     MS   \n11                                   XS2439264677.pdf  XS2439264677   Citi   \n12                                   XS2444480540.pdf  XS2444480540     GS   \n13                                   XS2472707103.pdf  XS2472707103    RBC   \n14                                   XS2474851479.pdf  XS2474851479   Citi   \n15                                   XS2493928639.pdf  XS2493928639   Citi   \n16                                   XS2497687744.pdf  XS2497687744   RBCD   \n17  XS2565974388_USD-TwinWin-18M-.SPX^M.STOXX50E-F...  XS2565974388   Citi   \n18  XS2575193920 (TS) - 5y USD Autocallable Note o...  XS2575193920     MS   \n\n    Ccy Underlying(s) Unnamed: 5 Unnamed: 6 Unnamed: 7 Unnamed: 8     Strike  \\\n0   EUR           GLE        NaN        NaN        NaN        NaN     33.164   \n1   USD          SX5E        UKX        SPX        NaN        NaN   4229.530   \n2   USD          SX5E        SMI        SPX        NaN        NaN   4096.540   \n3   USD           RTY       SXXP        NaN        NaN        NaN   1902.659   \n4   USD          SX5E        UKX        SPX        NaN        NaN   4209.630   \n5   USD           DAX        UKX       IBEX        NaN        NaN  15412.710   \n6   USD           RNO       VOW3        DAI       PAH3         GM     34.300   \n7   USD      FTSE MIB        NaN        NaN        NaN        NaN  26177.760   \n8   USD           DAX       INDU       IBEX        NaN        NaN  14026.920   \n9   USD           XLV        XLP        SPY        NaN        NaN    129.910   \n10  USD          SX5E        NKY        SPX        NaN        NaN   3924.230   \n11  USD          SX5E        NKY        SPX        NaN        NaN   4074.280   \n12  USD           UKX        SPX       SX5E        NaN        NaN   7207.380   \n13  USD          SX5E        SMI        SPX        NaN        NaN   3549.120   \n14  USD           FXI        NaN        NaN        NaN        NaN     33.840   \n15  USD           GLD        NaN        NaN        NaN        NaN    161.670   \n16  USD           GDX        NaN        NaN        NaN        NaN     27.323   \n17  USD          SX5E        SPX        NaN        NaN        NaN   4242.880   \n18  USD           DAX   FTSE MIB       IBEX        NaN        NaN   6300.520   \n\n    Unnamed: 10  Unnamed: 11  Unnamed: 12  Unnamed: 13 Launch Date  \\\n0           NaN          NaN          NaN          NaN  2022-01-11   \n1       7748.35      3861.59          NaN          NaN  2023-03-10   \n2      10632.05      3855.76          NaN          NaN  2023-03-13   \n3        460.02          NaN          NaN          NaN  2023-03-02   \n4       7478.09      4470.38          NaN          NaN  2022-01-21   \n5       7608.92      8718.00          NaN          NaN  2022-02-15   \n6        185.60        88.09        85.86        59.27  2021-11-10   \n7           NaN          NaN          NaN          NaN  2021-12-20   \n8      32428.80      8188.17          NaN          NaN  2022-02-24   \n9         72.28       425.48          NaN          NaN  2022-03-10   \n10     26844.72      4373.94          NaN          NaN  2022-02-28   \n11     26771.58      4348.87          NaN          NaN  2022-02-18   \n12      4288.70      3829.29          NaN          NaN  2022-02-24   \n13     10837.75      3793.15          NaN          NaN  2022-06-15   \n14          NaN          NaN          NaN          NaN  2022-06-24   \n15          NaN          NaN          NaN          NaN  2022-07-27   \n16          NaN          NaN          NaN          NaN  2022-08-10   \n17      3991.05          NaN          NaN          NaN  2023-02-22   \n18     27160.73      9227.30          NaN          NaN  2023-02-08   \n\n   Final Val. Day    Maturity    Cap  Barrier  \n0      2023-07-11  2023-07-18    NaN       70  \n1      2025-03-10  2025-03-17    NaN       70  \n2      2025-03-13  2025-03-20    NaN       70  \n3      2027-03-02  2027-02-09    NaN       65  \n4      2023-04-21  2028-04-28    NaN       65  \n5      2023-05-15  2023-05-30  120.0       70  \n6      2023-05-10  2023-05-24    NaN       60  \n7      2023-06-20  2023-07-05  120.5       75  \n8      2023-08-24  2023-09-07  120.0       65  \n9      2023-09-11  2023-09-25  125.0       70  \n10     2028-02-28  2028-03-06    NaN       60  \n11     2027-02-18  2027-02-25    NaN       60  \n12     2023-08-24  2023-08-31  120.0       65  \n13     2023-12-15  2023-12-22    NaN       65  \n14     2023-12-26  2024-01-03  120.0       70  \n15     2024-01-29  2024-02-05  115.0       70  \n16     2024-02-12  2024-02-20  130.0       70  \n17     2024-08-22  2024-08-29    NaN       70  \n18     2028-02-08  2028-02-15    NaN       65  ",
      "text/html": "<div>\n<style scoped>\n    .dataframe tbody tr th:only-of-type {\n        vertical-align: middle;\n    }\n\n    .dataframe tbody tr th {\n        vertical-align: top;\n    }\n\n    .dataframe thead th {\n        text-align: right;\n    }\n</style>\n<table border=\"1\" class=\"dataframe\">\n  <thead>\n    <tr style=\"text-align: right;\">\n      <th></th>\n      <th>File name</th>\n      <th>Isin</th>\n      <th>Issuer</th>\n      <th>Ccy</th>\n      <th>Underlying(s)</th>\n      <th>Unnamed: 5</th>\n      <th>Unnamed: 6</th>\n      <th>Unnamed: 7</th>\n      <th>Unnamed: 8</th>\n      <th>Strike</th>\n      <th>Unnamed: 10</th>\n      <th>Unnamed: 11</th>\n      <th>Unnamed: 12</th>\n      <th>Unnamed: 13</th>\n      <th>Launch Date</th>\n      <th>Final Val. Day</th>\n      <th>Maturity</th>\n      <th>Cap</th>\n      <th>Barrier</th>\n    </tr>\n  </thead>\n  <tbody>\n    <tr>\n      <th>0</th>\n      <td>AB3ZFW - RBC 18-Month EUR Twin Win Autocallabl...</td>\n      <td>XS1878076543</td>\n      <td>RBC</td>\n      <td>EUR</td>\n      <td>GLE</td>\n      <td>NaN</td>\n      <td>NaN</td>\n      <td>NaN</td>\n      <td>NaN</td>\n      <td>33.164</td>\n      <td>NaN</td>\n      <td>NaN</td>\n      <td>NaN</td>\n      <td>NaN</td>\n      <td>2022-01-11</td>\n      <td>2023-07-11</td>\n      <td>2023-07-18</td>\n      <td>NaN</td>\n      <td>70</td>\n    </tr>\n    <tr>\n      <th>1</th>\n      <td>AB5P75 - BNP 2-Year USD Bonus Certificate Wors...</td>\n      <td>XS2490610263</td>\n      <td>BNP</td>\n      <td>USD</td>\n      <td>SX5E</td>\n      <td>UKX</td>\n      <td>SPX</td>\n      <td>NaN</td>\n      <td>NaN</td>\n      <td>4229.530</td>\n      <td>7748.35</td>\n      <td>3861.59</td>\n      <td>NaN</td>\n      <td>NaN</td>\n      <td>2023-03-10</td>\n      <td>2025-03-10</td>\n      <td>2025-03-17</td>\n      <td>NaN</td>\n      <td>70</td>\n    </tr>\n    <tr>\n      <th>2</th>\n      <td>AB5PFT - BNP 2-Year USD Bonus Certificate Wors...</td>\n      <td>XS2490618670</td>\n      <td>BNP</td>\n      <td>USD</td>\n      <td>SX5E</td>\n      <td>SMI</td>\n      <td>SPX</td>\n      <td>NaN</td>\n      <td>NaN</td>\n      <td>4096.540</td>\n      <td>10632.05</td>\n      <td>3855.76</td>\n      <td>NaN</td>\n      <td>NaN</td>\n      <td>2023-03-13</td>\n      <td>2025-03-13</td>\n      <td>2025-03-20</td>\n      <td>NaN</td>\n      <td>70</td>\n    </tr>\n    <tr>\n      <th>3</th>\n      <td>EU2320735_20230302_XS2566031444_Decentia-USD-C...</td>\n      <td>XS2566031444</td>\n      <td>Citi</td>\n      <td>USD</td>\n      <td>RTY</td>\n      <td>SXXP</td>\n      <td>NaN</td>\n      <td>NaN</td>\n      <td>NaN</td>\n      <td>1902.659</td>\n      <td>460.02</td>\n      <td>NaN</td>\n      <td>NaN</td>\n      <td>NaN</td>\n      <td>2023-03-02</td>\n      <td>2027-03-02</td>\n      <td>2027-02-09</td>\n      <td>NaN</td>\n      <td>65</td>\n    </tr>\n    <tr>\n      <th>4</th>\n      <td>XS2021832634.pdf</td>\n      <td>XS2021832634</td>\n      <td>BNP</td>\n      <td>USD</td>\n      <td>SX5E</td>\n      <td>UKX</td>\n      <td>SPX</td>\n      <td>NaN</td>\n      <td>NaN</td>\n      <td>4209.630</td>\n      <td>7478.09</td>\n      <td>4470.38</td>\n      <td>NaN</td>\n      <td>NaN</td>\n      <td>2022-01-21</td>\n      <td>2023-04-21</td>\n      <td>2028-04-28</td>\n      <td>NaN</td>\n      <td>65</td>\n    </tr>\n    <tr>\n      <th>5</th>\n      <td>XS2033997748.pdf</td>\n      <td>XS2033997748</td>\n      <td>BNP</td>\n      <td>USD</td>\n      <td>DAX</td>\n      <td>UKX</td>\n      <td>IBEX</td>\n      <td>NaN</td>\n      <td>NaN</td>\n      <td>15412.710</td>\n      <td>7608.92</td>\n      <td>8718.00</td>\n      <td>NaN</td>\n      <td>NaN</td>\n      <td>2022-02-15</td>\n      <td>2023-05-15</td>\n      <td>2023-05-30</td>\n      <td>120.0</td>\n      <td>70</td>\n    </tr>\n    <tr>\n      <th>6</th>\n      <td>XS2317910607.pdf</td>\n      <td>XS2317910607</td>\n      <td>BNP</td>\n      <td>USD</td>\n      <td>RNO</td>\n      <td>VOW3</td>\n      <td>DAI</td>\n      <td>PAH3</td>\n      <td>GM</td>\n      <td>34.300</td>\n      <td>185.60</td>\n      <td>88.09</td>\n      <td>85.86</td>\n      <td>59.27</td>\n      <td>2021-11-10</td>\n      <td>2023-05-10</td>\n      <td>2023-05-24</td>\n      <td>NaN</td>\n      <td>60</td>\n    </tr>\n    <tr>\n      <th>7</th>\n      <td>XS2333422389.pdf</td>\n      <td>XS2333422389</td>\n      <td>BNP</td>\n      <td>USD</td>\n      <td>FTSE MIB</td>\n      <td>NaN</td>\n      <td>NaN</td>\n      <td>NaN</td>\n      <td>NaN</td>\n      <td>26177.760</td>\n      <td>NaN</td>\n      <td>NaN</td>\n      <td>NaN</td>\n      <td>NaN</td>\n      <td>2021-12-20</td>\n      <td>2023-06-20</td>\n      <td>2023-07-05</td>\n      <td>120.5</td>\n      <td>75</td>\n    </tr>\n    <tr>\n      <th>8</th>\n      <td>XS2355961215.pdf</td>\n      <td>XS2355961215</td>\n      <td>BNP</td>\n      <td>USD</td>\n      <td>DAX</td>\n      <td>INDU</td>\n      <td>IBEX</td>\n      <td>NaN</td>\n      <td>NaN</td>\n      <td>14026.920</td>\n      <td>32428.80</td>\n      <td>8188.17</td>\n      <td>NaN</td>\n      <td>NaN</td>\n      <td>2022-02-24</td>\n      <td>2023-08-24</td>\n      <td>2023-09-07</td>\n      <td>120.0</td>\n      <td>65</td>\n    </tr>\n    <tr>\n      <th>9</th>\n      <td>XS2358486194.pdf</td>\n      <td>XS2358486194</td>\n      <td>BNP</td>\n      <td>USD</td>\n      <td>XLV</td>\n      <td>XLP</td>\n      <td>SPY</td>\n      <td>NaN</td>\n      <td>NaN</td>\n      <td>129.910</td>\n      <td>72.28</td>\n      <td>425.48</td>\n      <td>NaN</td>\n      <td>NaN</td>\n      <td>2022-03-10</td>\n      <td>2023-09-11</td>\n      <td>2023-09-25</td>\n      <td>125.0</td>\n      <td>70</td>\n    </tr>\n    <tr>\n      <th>10</th>\n      <td>XS2424913601.pdf</td>\n      <td>XS2424913601</td>\n      <td>MS</td>\n      <td>USD</td>\n      <td>SX5E</td>\n      <td>NKY</td>\n      <td>SPX</td>\n      <td>NaN</td>\n      <td>NaN</td>\n      <td>3924.230</td>\n      <td>26844.72</td>\n      <td>4373.94</td>\n      <td>NaN</td>\n      <td>NaN</td>\n      <td>2022-02-28</td>\n      <td>2028-02-28</td>\n      <td>2028-03-06</td>\n      <td>NaN</td>\n      <td>60</td>\n    </tr>\n    <tr>\n      <th>11</th>\n      <td>XS2439264677.pdf</td>\n      <td>XS2439264677</td>\n      <td>Citi</td>\n      <td>USD</td>\n      <td>SX5E</td>\n      <td>NKY</td>\n      <td>SPX</td>\n      <td>NaN</td>\n      <td>NaN</td>\n      <td>4074.280</td>\n      <td>26771.58</td>\n      <td>4348.87</td>\n      <td>NaN</td>\n      <td>NaN</td>\n      <td>2022-02-18</td>\n      <td>2027-02-18</td>\n      <td>2027-02-25</td>\n      <td>NaN</td>\n      <td>60</td>\n    </tr>\n    <tr>\n      <th>12</th>\n      <td>XS2444480540.pdf</td>\n      <td>XS2444480540</td>\n      <td>GS</td>\n      <td>USD</td>\n      <td>UKX</td>\n      <td>SPX</td>\n      <td>SX5E</td>\n      <td>NaN</td>\n      <td>NaN</td>\n      <td>7207.380</td>\n      <td>4288.70</td>\n      <td>3829.29</td>\n      <td>NaN</td>\n      <td>NaN</td>\n      <td>2022-02-24</td>\n      <td>2023-08-24</td>\n      <td>2023-08-31</td>\n      <td>120.0</td>\n      <td>65</td>\n    </tr>\n    <tr>\n      <th>13</th>\n      <td>XS2472707103.pdf</td>\n      <td>XS2472707103</td>\n      <td>RBC</td>\n      <td>USD</td>\n      <td>SX5E</td>\n      <td>SMI</td>\n      <td>SPX</td>\n      <td>NaN</td>\n      <td>NaN</td>\n      <td>3549.120</td>\n      <td>10837.75</td>\n      <td>3793.15</td>\n      <td>NaN</td>\n      <td>NaN</td>\n      <td>2022-06-15</td>\n      <td>2023-12-15</td>\n      <td>2023-12-22</td>\n      <td>NaN</td>\n      <td>65</td>\n    </tr>\n    <tr>\n      <th>14</th>\n      <td>XS2474851479.pdf</td>\n      <td>XS2474851479</td>\n      <td>Citi</td>\n      <td>USD</td>\n      <td>FXI</td>\n      <td>NaN</td>\n      <td>NaN</td>\n      <td>NaN</td>\n      <td>NaN</td>\n      <td>33.840</td>\n      <td>NaN</td>\n      <td>NaN</td>\n      <td>NaN</td>\n      <td>NaN</td>\n      <td>2022-06-24</td>\n      <td>2023-12-26</td>\n      <td>2024-01-03</td>\n      <td>120.0</td>\n      <td>70</td>\n    </tr>\n    <tr>\n      <th>15</th>\n      <td>XS2493928639.pdf</td>\n      <td>XS2493928639</td>\n      <td>Citi</td>\n      <td>USD</td>\n      <td>GLD</td>\n      <td>NaN</td>\n      <td>NaN</td>\n      <td>NaN</td>\n      <td>NaN</td>\n      <td>161.670</td>\n      <td>NaN</td>\n      <td>NaN</td>\n      <td>NaN</td>\n      <td>NaN</td>\n      <td>2022-07-27</td>\n      <td>2024-01-29</td>\n      <td>2024-02-05</td>\n      <td>115.0</td>\n      <td>70</td>\n    </tr>\n    <tr>\n      <th>16</th>\n      <td>XS2497687744.pdf</td>\n      <td>XS2497687744</td>\n      <td>RBCD</td>\n      <td>USD</td>\n      <td>GDX</td>\n      <td>NaN</td>\n      <td>NaN</td>\n      <td>NaN</td>\n      <td>NaN</td>\n      <td>27.323</td>\n      <td>NaN</td>\n      <td>NaN</td>\n      <td>NaN</td>\n      <td>NaN</td>\n      <td>2022-08-10</td>\n      <td>2024-02-12</td>\n      <td>2024-02-20</td>\n      <td>130.0</td>\n      <td>70</td>\n    </tr>\n    <tr>\n      <th>17</th>\n      <td>XS2565974388_USD-TwinWin-18M-.SPX^M.STOXX50E-F...</td>\n      <td>XS2565974388</td>\n      <td>Citi</td>\n      <td>USD</td>\n      <td>SX5E</td>\n      <td>SPX</td>\n      <td>NaN</td>\n      <td>NaN</td>\n      <td>NaN</td>\n      <td>4242.880</td>\n      <td>3991.05</td>\n      <td>NaN</td>\n      <td>NaN</td>\n      <td>NaN</td>\n      <td>2023-02-22</td>\n      <td>2024-08-22</td>\n      <td>2024-08-29</td>\n      <td>NaN</td>\n      <td>70</td>\n    </tr>\n    <tr>\n      <th>18</th>\n      <td>XS2575193920 (TS) - 5y USD Autocallable Note o...</td>\n      <td>XS2575193920</td>\n      <td>MS</td>\n      <td>USD</td>\n      <td>DAX</td>\n      <td>FTSE MIB</td>\n      <td>IBEX</td>\n      <td>NaN</td>\n      <td>NaN</td>\n      <td>6300.520</td>\n      <td>27160.73</td>\n      <td>9227.30</td>\n      <td>NaN</td>\n      <td>NaN</td>\n      <td>2023-02-08</td>\n      <td>2028-02-08</td>\n      <td>2028-02-15</td>\n      <td>NaN</td>\n      <td>65</td>\n    </tr>\n  </tbody>\n</table>\n</div>"
     },
     "execution_count": 6,
     "metadata": {},
     "output_type": "execute_result"
    }
   ],
   "source": [
    "csv_ground_truth"
   ],
   "metadata": {
    "collapsed": false,
    "ExecuteTime": {
     "end_time": "2023-11-19T12:21:13.418910Z",
     "start_time": "2023-11-19T12:21:13.403976Z"
    }
   }
  },
  {
   "cell_type": "code",
   "execution_count": 12,
   "outputs": [
    {
     "data": {
      "text/plain": "Index(['File name', 'Isin', 'Issuer', 'Ccy', 'Underlying(s)', 'Unnamed: 5',\n       'Unnamed: 6', 'Unnamed: 7', 'Unnamed: 8', 'Strike', 'Unnamed: 10',\n       'Unnamed: 11', 'Unnamed: 12', 'Unnamed: 13', 'Launch Date',\n       'Final Val. Day', 'Maturity', 'Cap', 'Barrier'],\n      dtype='object')"
     },
     "execution_count": 12,
     "metadata": {},
     "output_type": "execute_result"
    }
   ],
   "source": [
    "csv_ground_truth.columns\n"
   ],
   "metadata": {
    "collapsed": false,
    "ExecuteTime": {
     "end_time": "2023-11-19T14:35:55.895634Z",
     "start_time": "2023-11-19T14:35:55.891826Z"
    }
   }
  },
  {
   "cell_type": "code",
   "execution_count": 11,
   "outputs": [
    {
     "ename": "SyntaxError",
     "evalue": "invalid syntax (3660635433.py, line 3)",
     "output_type": "error",
     "traceback": [
      "\u001B[0;36m  Cell \u001B[0;32mIn[11], line 3\u001B[0;36m\u001B[0m\n\u001B[0;31m    I need to take a document, pass it through the OCR,\u001B[0m\n\u001B[0m      ^\u001B[0m\n\u001B[0;31mSyntaxError\u001B[0m\u001B[0;31m:\u001B[0m invalid syntax\n"
     ]
    }
   ],
   "source": [
    "# ok say that I am doing a pipeline for a document:\n",
    "\n",
    "I need to take a document, pass it through the OCR,\n",
    "- take the name of the document add it in the column \"name\"\n",
    "- pass it through the OCR pipeline, save it in OCR_timestamp_folder\n",
    "- then for the list of columns we have:\n",
    "    create a subpipeline for each one.\n",
    "        So for example:\n",
    "            we have a json output of the OCR,\n",
    "            lets begin pipeline Isin."
   ],
   "metadata": {
    "collapsed": false,
    "ExecuteTime": {
     "end_time": "2023-11-19T14:35:18.768179Z",
     "start_time": "2023-11-19T14:35:18.766064Z"
    }
   }
  },
  {
   "cell_type": "code",
   "execution_count": 19,
   "outputs": [],
   "source": [
    "import langchain\n",
    "from langchain import OpenAI, PromptTemplate\n",
    "from langchain.callbacks import get_openai_callback\n",
    "from dotenv import load_dotenv\n",
    "load_dotenv()\n",
    "\n",
    "llm = OpenAI(\n",
    "        model=\"gpt-3.5-turbo-instruct\",\n",
    "        temperature=0.9\n",
    "    )\n",
    "\n"
   ],
   "metadata": {
    "collapsed": false,
    "ExecuteTime": {
     "end_time": "2023-11-19T23:45:05.318645Z",
     "start_time": "2023-11-19T23:45:05.292278Z"
    }
   }
  },
  {
   "cell_type": "code",
   "execution_count": 139,
   "outputs": [],
   "source": [
    "import json\n",
    "prompt_template = PromptTemplate.from_template(\n",
    "    \"Take a deep breath and relax. Think step by step.\"\n",
    "    \"I have the following json document of a term sheet\"\n",
    "    \"I need to find the Issuer (which is basically the company issuing the term sheet)\"\n",
    "    \"It is really important that you get this right, because my life depends on it!\"\n",
    "    \": {json}\\n\\n\"\n",
    ")\n"
   ],
   "metadata": {
    "collapsed": false,
    "ExecuteTime": {
     "end_time": "2023-11-20T00:41:39.017312Z",
     "start_time": "2023-11-20T00:41:39.008396Z"
    }
   }
  },
  {
   "cell_type": "code",
   "execution_count": 140,
   "outputs": [],
   "source": [
    "# load the json\n",
    "file ='/Users/vtwoptwo/Desktop/docs/robotics_club/hackathons/ai-hackathon/data_0611/OCR_output/AB3ZFW - RBC 18-Month EUR Twin Win Autocallable on Societe Generale SA.json'\n",
    "with open(file, 'r') as f:\n",
    "    json = json.load(f)\n",
    "\n"
   ],
   "metadata": {
    "collapsed": false,
    "ExecuteTime": {
     "end_time": "2023-11-20T00:41:39.631570Z",
     "start_time": "2023-11-20T00:41:39.627667Z"
    }
   }
  },
  {
   "cell_type": "code",
   "execution_count": 141,
   "outputs": [
    {
     "data": {
      "text/plain": "{'key-value_pairs': {'Swiss Sales Team': ['+44 (0)20 7029 0125', 0.824],\n  'Issuer': [None, 0.623],\n  'Currency': ['EUR', 0.91],\n  'Issue Size': ['EUR 1,000,000', 0.874],\n  'Specified Denomination': ['EUR 1,000', 0.874],\n  'Calculation Amount': ['EUR 1,000', 0.874],\n  'Minimum Trading Size': ['EUR 1,000', 0.862],\n  'Settlement Method': ['Cash Settlement and/or Physical Delivery*', 0.854],\n  'ISIN': ['XS1878076543', 0.91],\n  'RBC Code': ['GLE-CRCX-11JUL23', 0.887],\n  'RIC Code': ['XS1878076543=RBCN', 0.887],\n  'Valoren': ['114275563', 0.91],\n  'Issue Price': ['100.00%', 0.888],\n  'Listing': ['None', 0.91],\n  'Identifier': ['Bloomberg:', 0.281],\n  'Exchange': ['GLE\\nEuronext\\nEUR 33.164', 0.126],\n  'Initial Price': ['EUR 33.164', 0.43],\n  'GENERALE FP Equity': ['Paris', 0.614],\n  'SA: COMMON ISIN:': [None, 0.681],\n  'STOCK': ['FR0000130809', 0.91],\n  'Trade Date': ['11 January 2022', 0.863],\n  'Initial Valuation Date': ['11 January 2022', 0.857],\n  'Issue Date': ['18 January 2022', 0.863],\n  'Final Valuation Date': ['11 July 2023', 0.858],\n  'Maturity Date': ['18 July 2023', 0.863],\n  'For payment:': ['London and TARGET2', 0.86],\n  'For Determination of the Reference Item(s):': ['Scheduled Trading Days\\nFollowing',\n   0.363],\n  'Form of Notes': ['Settlement', 0.34],\n  'Bearer Notes': ['Euroclear or Clearstream on a delivery against payment basis',\n   0.248],\n  'Registered in England and Wales:': ['995939', 0.582],\n  'Registered Address:': ['100 Bishopsgate London EC2N 4AA', 0.823],\n  'in England and Wales:': ['995939', 0.376],\n  'in and Wales:': ['995939', 0.334]},\n 'full_text': 'RBC\\n®\\nCapital Markets\\n100 Bishopsgate London EC2N 4AA Swiss Sales Team +44 (0)20 7029 0125 swiss@rbccm.com\\nEUR | 18 months | Participation\\nFINAL SIMPLIFIED PROSPECTUS as of 12/01/2022\\nEUR Autocallable Twin-Win Notes linked to SOCIETE GENERALE SA due 18 July 2023\\nA structured product is not a collective investment scheme as per the Swiss Federal Act on Collective Investment Schemes (“CISA”) and is not subject to the authorization or supervision by the Swiss Financial Market Supervisory Authority (FINMA). Therefore, investors in this product are not eligible for the specific investor protection under the Swiss Collective Investment Schemes Act. Investors are exposed to the credit risk of the issuer\\nThis document is provided for discussion and/or information purposes only and it does not constitute either an offer or the solicitation of an offer to enter into a securities or any other transaction. It is not intended to set forth a final expression of the terms and conditions of any transaction and it may be amended, superseded or replaced in its entirety by subsequent documents or other summaries of terms and conditions. This document does not purport to identify or suggest all of the risks (direct or indirect) which may be associated with the proposed investment.\\nThis document must be read in conjunction with the Prospectus (as supplemented or updated) for the Royal Bank of Canada Programme for the Issuance of Securities, current as of the issue date of the Notes (the \"Base Prospectus\"). The Base Prospectus can be obtained from http://rbcnotes.co.uk/Legal or such other successor display page that has been designated by the Issuer or provided by Royal Bank of Canada upon request. Terms used but not defined herein are as defined in the Base Prospectus and in particular the Terms and Conditions of the Notes (the \"Conditions\") set out therein.\\nInformation with regard to the Offering of the Notes in Switzerland\\nThis document shall include the information required for a (indicative or definitive) Simplified Prospectus pursuant to Article 5 CISA (Status as of 1 March 2013) and serves as a substitute for a key information document under article 58 of the Swiss Federal Financial Services Act (\"FinSA\") based on the transitory provision of article 111 para. 1 of the Swiss Financial Services Ordinance (\"FinSO\"). The definitive Simplified Prospectus will be available no later than on the Issue Date. The Simplified Prospectus shall inform the average investor in short and understandable form about the key data of structured products.\\nThese Notes may be, subject to the applicable selling restrictions outlined below, publicly offered to investors in Switzerland but can only be offered on a Private Placement basis in any Member State of the European Economic Area as per below or elsewhere.\\nThis document in English is not available in one of the official Swiss languages.\\nI. PRODUCT DESCRIPTION\\nOverview\\nEUR Autocallable Twin-Win Notes linked to SOCIETE GENERALE SA due 18 July 2023 offer investors modified exposure to the underlying(s). The securities will be early redeemed if the Underlying Performance on the Mandatory Early Redemption Observation Date is equal to or greater than the Autocall Trigger Level. If the securities are not early redeemed, at maturity the investor will receive: (1) a cash payment in an amount equal to (a) 100% of the Calculation Amount plus (b) the greater of (i) 0%; or (ii) the Performance of the Reference Item, if no Barrier Event has occurred; or (2) otherwise, shares of the Reference Item in an amount that will be worth less, and could be worth substantially less, than the Calculation Amount; fractional shares will be paid out in cash. The performance of the Reference Item will be calculated as follows: (1) Final Price divided by Initial Price (2) minus 1.\\nMarket Expectations\\nThe Reference Item will rise Market volatility is rising The Reference Item will notclose below the Put Barrier Price on the Final Valuation Date\\nSSPA Classification/Product Type Twin-win Note (1340; European Barrier)\\nPRODUCT DETAILS\\nIssuer\\nRoyal Bank of Canada (Toronto Branch) Main Toronto Branch located at 200 Bay Street, Toronto, Ontario, Canada\\nRating\\nAa2 (Stable outlook) by Moody’s and AA- (Stable outlook) by Standard and Poor’s\\n1 / 12\\nHolders will not be subject to withholding on dividend equivalent payments under Section 871(m) of the U.S. Internal Revenue Code.\\nPrudential Supervision of the Issuer\\nRBC is a schedule 1 bank under the Canadian Bank Act, subject to supervision by the Office of the Superintendent for Financial Institutions of Canada and by the Prudential Regulation Authority, United Kingdom\\nCurrency\\nEUR\\nIssue Size\\nEUR 1,000,000\\nSpecified Denomination\\nEUR 1,000\\nCalculation Amount\\nEUR 1,000\\nMinimum Trading Size\\nEUR 1,000\\nSettlement Method\\nCash Settlement and/or Physical Delivery*\\nISIN\\nXS1878076543\\nRBC Code\\nGLE-CRCX-11JUL23\\nRIC Code\\nXS1878076543=RBCN\\nValoren\\n114275563\\nIssue Price\\n100.00% of the Calculation Amount\\nListing\\nNone\\n* Please refer to the section “Redemption at Maturity”\\nREFERENCE ITEM\\nReference Item\\nIdentifier\\nExchange\\nInitial Price\\nAutocall Trigger Price (Initial Price x 100.00%\\nPut Strike Price (Initial Price × 100.00%)\\nPut Barrier Price (Initial Price × 70.00%)\\nSOCIETE GENERALE SA: COMMON STOCK\\nBloomberg: GLE FP Equity ISIN: FR0000130809\\nEuronext Paris\\nEUR 33.164\\nEUR 33.164\\nEUR 33.164\\nEUR 23.2148\\nDATES\\nTrade Date\\n11 January 2022\\nInitial Valuation Date\\n11 January 2022\\nIssue Date\\n18 January 2022\\nFinal Valuation Date\\n11 July 2023\\nMaturity Date\\n18 July 2023\\nMandatory Early Redemption Information\\nMandatory Early Redemption Event\\nMandatory Early Redemption Amount\\nIf, on any Mandatory Early Redemption Observation Date, the Reference Price is equal to or greater than the Autocall Trigger Price, then a Mandatory Early Redemption Event shall be deemed to have occurred and the Securities shall be redeemed on the relevant Payment Date by payment of the Mandatory Early Redemption Amount.\\nMandatory Early Redemption Observation Date\\nPayment Date\\nMandatory Early Redemption Amount\\n11 July 2022\\n18 July 2022\\nCalculation Amount x 108.85%\\n11 January 2023\\n18 January 2023\\nCalculation Amount x 117.70%\\nRBC Europe Limited Registered in England and Wales: 995939 RBC Europe Limited Registered Address: 100 Bishopsgate London EC2N 4AA\\nAuthorised by the Prudential Regulatory Authority (\"PRA\") and regulated by the Financial Conduct Authority (\"FCA\") and the PRA\\n2 / 12\\nREDEMPTION AT MATURITY\\nBarrier Type\\nEuropean\\nBarrier Event\\nA Barrier Event occurs if the Final Price is less than the Put Barrier Price.\\nBarrier Observation Period\\nThe Final Valuation Date\\nSettlement Method\\n(1) If the Final Price is equal to or greater than the Put Barrier Price then Settlement will be Cash Settlement and the Securities shall be redeemed by payment of the Final Redemption Amount. (2) Otherwise, if the Final Price is less than the Put Barrier Price then Settlement will be Physical Delivery and the Securities shall be redeemed in exchange for the Rounded Down Entitlement plus the Cash Fraction Payment.\\nFinal Redemption Amount\\nThe Final Redemption Amount shall be determined in accordance with the following provisions: Calculation Amount × (100.00% + MAX[100.00% - Final Price / Initial Price; Final Price / Initial Price - 100.00%])\\nInitial Price\\nThe price as set out in the table above.\\nFinal Price\\nThe Reference Price on the Final Valuation Date.\\nReference Price\\nThe official closing price of the Reference Item quoted on the Relevant Exchange or, as the case may be, as calculated and published by the respective Index Sponsor, as determined by or on behalf of the Calculation Agent (or if, in the opinion of the Calculation Agent, no such official closing price can be determined at such time and the relevant day is not a Disrupted Day, the Calculation Agent\\'s good faith estimate of the price of the Reference Item as of the actual closing time of the Exchange on the relevant date), or as otherwise determined by the Calculation Agent pursuant to the Conditions.\\nEntitlement\\nA number of the Reference Item per Calculation Amount, calculated in accordance with the following formula: Calculation Amount / Put Strike Price\\nRounded Down Entitlement\\nA number of the Reference Item per Calculation Amount equal to the Entitlement rounded down to the nearest integer.\\nCash Fraction Payment\\nA cash payment per Calculation Amount will be made in respect of the fractional amount of the Entitlement, calculated in accordance with the following formula: (Entitlement - Rounded Down Entitlement) × Final Price\\nGENERAL INFORMATION\\nCalculation Agent\\nRoyal Bank of Canada, London Branch\\nPaying Agent\\nThe Bank of New York Mellon, London Branch, One Canada Square, London, E14 5AL, England\\nSecondary Market\\nUnder normal market conditions, the Dealer intends to maintain a secondary market throughout the lifetime of the Securities with an indicative market making spread of 1.00%. However, the Dealer is not obliged to do so and may stop providing liquidity at the secondary market at any time without notice. For further information please refer to the section “Liquidity Risk” below.\\nBusiness Days\\nFor payment: London and TARGET2 For Determination of the Reference Item(s): Scheduled Trading Days\\nBusiness Day Convention\\nFollowing\\nForm of Notes\\nBearer Notes\\nSettlement\\nEuroclear or Clearstream on a delivery against payment basis\\nRBC Europe Limited Registered in England and Wales: 995939 RBC Europe Limited Registered Address: 100 Bishopsgate London EC2N 4AA\\nAuthorised by the Prudential Regulatory Authority (\"PRA\") and regulated by the Financial Conduct Authority (\"FCA\") and the PRA\\n3 / 12\\nStatus\\nDirect, unsecured and unsubordinated obligations of the Issuer\\nDocumentation\\nUnder the existing Programme for the Issuance of Securities\\nDealer (non-syndicated)\\nRBC Europe Limited\\nProhibition of Sales to EEA Retail Investors\\nApplicable, other than with respect to offers of the Notes for which a PRIIPs KID is being prepared.\\nProhibition of Sales to UK Retail Investors\\nApplicable, other than with respect to offers of the Notes for which a PRIIPs KID is being prepared.\\nProhibition of Offer to Private Clients in Switzerland\\nApplicable, other than with respect to offers of the Notes for which a PRIIPs KID is being prepared.\\nDistribution Fees\\nThe payment of any fee or commission by the Dealer is subject to the relevant regulatory requirements, including those applicable in the jurisdiction(s) that the Dealer and distributor operate in, as well as the jurisdiction(s) into which the Notes are distributed, if different. The Issue Price may include a fee or commission payable by the Dealer to a distributor or third party, such a fee or commission will be determined by a number of factors including but not limited to the maturity of the Security, hedging costs and legal fees. This fee will not exceed 0.25% of the Issue Price. Any fee or commission received by the distributor or third party may be in addition to the fee normally charged by that party in connection with an investment in the Security. Further details in respect of the fee or commission are available upon request.\\nPricing\\nThis Security is quoted dirty in the secondary market.\\nWebsite\\nwww.rbcnotes.ch\\nTEFRA Rules\\nPermanent Global Note TEFRA rules not applicable\\nAvailability of Documentation\\nInvestors may obtain copies of the Base Prospectus, the Base Prospectus Supplements and the Final Terms free of charge on request from offices of the Distributors or the Issuer\\'s registered office. This Simplified Prospectus compliant document is available, in electronic form, in printed form free of charge and upon request from swiss@rbccm.com or from RBC Europe Limited, London, Representative Office Lausanne, Rue de Bourg 20 / 2nd floor, P.O. Box 7249, 1002 Lausanne, Switzerland\\nAdjustments\\nFor modifications to the Terms and Conditions during the term of the Notes as a result of corporate actions or similar events and any other notices to Investors, please refer to the Swiss Simplified Prospectus published on the Internet page www.rbcnotes.ch\\nGoverning Law\\nProvince of Ontario and the laws of Canada applicable therein\\nJurisdiction\\nCourts of Ontario and Canada\\nSWISS TAX INFORMATION\\nSwiss Tax Treatment of the Securities\\nThe following is a summary only of the Issuer\\'s understanding of current law and practice in Switzerland relating to the taxation of the Notes. This summary does not address the tax consequences of an investment in the Notes in any other jurisdiction than Switzerland. Because this summary does not address all tax considerations under Swiss law and does not consider the specific tax situation of an investor, prospective investors are recommended to consult its personal tax advisors as to the tax consequences of the purchase, ownership, sale or redemption of the Notes including, in particular, the effect of tax laws of any other jurisdiction. An investor shall be liable for all current and future taxes and duties resulting from an investment in the Notes.\\nRBC Europe Limited Registered in England and Wales: 995939 RBC Europe Limited Registered Address: 100 Bishopsgate London EC2N 4AA\\nAuthorised by the Prudential Regulatory Authority (\"PRA\") and regulated by the Financial Conduct Authority (\"FCA\") and the PRA\\n4 / 12\\nA) Swiss Income Taxation\\nPlease note that the following income tax treatment is only applicable for private investors with tax residence in Switzerland, holding the Notes as their private assets in a tax perspective.\\nAny profits or losses that are realized during the term of the Notes or at redemption are in principle not subject to the Federal Direct Tax (“Direkte Bundessteuer”) as they are considered as tax exempt capital gains or losses. The cantonal and communal income tax treatment can differ from the tax treatment for the Federal Direct Tax. However, in general the tax treatments correspond.\\nB) Swiss Withholding Tax\\nThe Notes are not subject to Swiss withholding tax.\\nC) Swiss Stamp Taxes\\nThe issuance of the Notes(primary market) and secondary market transactions are not subject to Swiss stamp duty. However, the possible physical delivery of the Reference Item is in principle subject to Swiss stamp duty.\\nThe before mentioned tax treatment applies at the Issue Date. The relevant tax laws and/or the regulation and practice of the tax authorities may change at any time. Please note that this tax information does not replace professional tax advice from a personal tax advisor considering the particular circumstances of a holder or a prospective holder. Therefore, Royal Bank of Canada highly recommends consulting the personal tax advisor as to the tax consequences of the purchase, ownership, sale or exercise of these Notes. Royal Bank of Canada hereby expressly excludes any liabilities in respect of any tax implications arising thereof.\\nAutomatic Exchange of Information in Tax Matters\\nSwitzerland has implemented the Automatic Exchange of Information in Tax Matters (\"AEOI\") as of 1st January 2017 with the EU and various other countries and is negotiating the introduction of the AEOI with further countries. The website \"www.sif.admin.ch\" provides an overview of all partner states Switzerland has signed an agreement for the introduction of the AEOI.\\nII. PROFIT AND LOSS\\nPROFIT AND LOSS\\nThis security falls in the category “participation”.\\nThe maximum amount investors may receive over the term of the security is their invested capital, excluding any transaction or other costs, plus participation in the performance of the Reference Item. On the downside, investors are exposed to the negative development of the Reference Item. This could lead to a partial or even a total loss of investment.\\nPlease refer to the section “Product Description”.\\nEffect of the performance of the Reference Item on the redemption amount:\\nPositive performance:\\nIf the Reference Item performs positively, the investor realises a positive return.\\nSideways to slightly negative performance:\\nIf the Reference Item performs sideways to slightly negative, the investor realises a positive return.\\nPronounced negative performance:\\nIf the Reference Item performs negatively, the investor realises positive return.\\nRBC Europe Limited Registered in England and Wales: 995939\\nRBC Europe Limited Registered Address: 100 Bishopsgate London EC2N 4AA\\nAuthorised by the Prudential Regulatory Authority (\"PRA\") and regulated by the Financial Conduct Authority (\"FCA\") and the PRA\\n5 / 12\\nIII. SIGNIFICANT RISKS FOR INVESTORS\\nRISKS\\nProduct Risk\\nThese Securities are capital at risk. This means there is a risk that you could lose your entire investment or part of it. These Securities are not guaranteed against losses by the Issuer, Dealer, their affiliates, the UK Financial Services Compensation Scheme or any equivalent European deposit guarantee scheme.\\nU.S. Withholding Tax on Dividend Equivalent Payments\\nThe United States Internal Revenue Code of 1986, as amended, treats a “dividend equivalent” payment as a dividend from sources within the United States. Unless reduced by an applicable tax treaty with the United States, such payments generally would be subject to U.S. withholding tax of 30% if paid to a non-U.S. holder. A non- U.S. holder is a beneficial owner of a Note that, for U.S. federal income tax purposes, is a non-resident alien individual, a foreign corporation, or a foreign estate or trust. Under recently finalized U.S. Treasury Department regulations, payments on certain equity-linked instruments (including deemed payments) that are contingent upon or determined by Reference to actual or estimated U.S. source dividends, (regardless of whether such contingency or determination is explicitly stated or implicitly taken into account in computing one or more of the terms of such instruments) may be treated as dividend equivalents subject to withholding tax. Withholding tax will apply to dividend equivalent payments on Notes issued or materially modified on or after January 1, 2017. If any payments are treated as dividend equivalent subject to withholding, we (or the applicable paying agent) would be required to withhold taxes and would not be required to pay any additional amounts with respect to amounts so withheld. Prospective investors of the Notes should consult their own tax advisers regarding the application of the U.S. rules for withholding on dividend equivalents.\\nIssuer Risk\\nInvestors bear the issuer risk. The Security’s value and the payment of any income or bonus amount (where one is payable) are dependent not only on the development of the Reference Item, but also on the creditworthiness of the Issuer, which may vary over the term of the Security. The ratings of the Issuer noted above reflect the independent opinion of the rating agencies as to the safety of payments of principal and interest. These ratings are not a guarantee of credit quality. The ratings do not take into consideration any risk associated with fluctuations in the market value of this Security, or where factors other than the Issuer’s credit quality determine the level of principal and interest payments.\\nReference Item\\nThe value of the Security is linked to the Reference Item(s). The past performance of the Reference Item(s) is not an indication or guarantee of future performance. Any decision to invest in the Securities should not be based solely or primarily on the past performance of the Reference Item(s). The performance of the Reference Item(s) may be volatile and subject to unpredictable changes over the term of the Security. The investor should be prepared to assume this risk, including the potential risk of insolvency of the Reference Item(s) issuer(s). Fluctuations in price of the Reference Item(s) may result in the investor losing the entire investment or a substantial part of it. An investment in the Securities does not create a direct investment in the underlying Reference Item(s). Where the Reference Item(s) is an equity/basket of equities, the investor will not be eligible to receive dividend payments or any voting rights associated with a direct investment in the Reference Item(s).\\nFX Risk\\nN/A\\nPhysical Delivery\\nUnder the terms of the Security, the investor may receive physical delivery of the underlying Reference Item(s), if the underlying Reference Item(s) are recorded as performing below the specified level on the Final Valuation Date. The investor should be prepared to accept the risks associated with receiving physical delivery. This includes the risk that the value of the Reference Item(s) may be significantly lower than their Initial Price and/or may continue to fall in value after delivery. The investor should also be prepared to bear any potential ongoing custody costs associated with holding the Reference Item(s).\\nRBC Europe Limited Registered in England and Wales: 995939 RBC Europe Limited Registered Address: 100 Bishopsgate London EC2N 4AA\\nAuthorised by the Prudential Regulatory Authority (\"PRA\") and regulated by the Financial Conduct Authority (\"FCA\") and the PRA\\n6 / 12\\nLiquidity Risk Suitability\\nThe investor should be prepared to hold this Security until maturity should it not be called or terminated early, if such option exists, by the Issuer. The Dealer will, however, use its reasonable endeavours to provide liquidity to the Security (either directly or through an affiliate) but is not obliged to do so and may stop providing liquidity at any time without notice. This means an investor should not rely on having the ability to redeem the Security at a particular time or for a certain price. If the Security is redeemed early, the investor may get back less than the stated redemption amount. The Issue Price is not a direct reflection of the market value of the Security. The level at which the investor purchases the Security includes hedging costs and profits that the Dealer or its affiliates expect to incur or realize. The Issue Price may also include selling commissions paid by the Dealer to distributors and/or intermediaries. Any selling commissions, costs and profits will reduce the secondary market level, if any secondary market develops, for the Security. As a result, the investor may experience an immediate and substantial decline in the value of the Securities on the Issue Date. This termsheet is provided for information purposes only and should not be used as the sole or primary basis of any investment decision. Transactions of a type described herein, may involve a high degree of risk and may not be suitable for all investors. Transactions in the Securities should not be undertaken unless the prospective investor understands and is capable of bearing all of the risks associated with an investment in the Securities. Before entering into any transaction, potential investors should take steps to ensure they understand the transaction and have assessed the appropriateness of the transaction in light of their own objectives and circumstances, including the possible risks, benefits and also the tax implications of entering into this proposed transaction. The information in this termsheet does not constitute financial, tax or legal advice and should not be used as a substitute for seeking professional advice. The Dealer is acting as an arm’s length counterparty and not as an advisor or fiduciary. It is strongly recommended that potential investors consult their own professional advisers. Institutions referencing this termsheet or extracting information from this termsheet to provide to their clients should ensure that the information satisfies their local jurisdictional requirements and applicable securities laws for conducting business, including any applicable suitability and appropriateness assessment. Investments of a type described herein should only be sold to investors that have the necessary knowledge and experience to fully understand the related risks and are able to bear such risks.\\nConflicts of Interest Disclosure\\nRBC Europe Limited (“RBCEL”) forms part of a major banking group. It is therefore possible that RBCEL or one of its subsidiaries, or affiliates, or one of their officers, employees, representatives or agents (together \"the Bank Group\") or another client of the Bank Group may have interests, relationships and/or arrangements that give rise to conflicts of interest in relation to business that is transacted with you. Members of the Bank Group may perform a variety of roles in connection with the issuance. The Issuer, Dealer, or their affiliates may act as the Calculation Agent and may enter into positions in connection with the issuance. The Issuer, Dealer, or their affiliates may undertake hedging activity including trading in the Reference Item(s) or instruments related to the Reference Item(s), which may have an adverse impact on the value of the Securities. The Issuer, Dealer, or their affiliates may from time-to-time possess or have access to information concerning the Reference Item(s) and are under no obligation to disclose this information to investors. Any conflicts of interest will be managed in accordance with the Bank Group’s established policies and procedures.\\nTax Risk\\nAn investment in the Securities may give rise to tax consequences. Any tax liability is dependent on the taxpayer’s personal circumstances. The basis and level of any taxes may change during the term of the Security.\\nOn-sale of Securities\\nIt is strongly recommended that investors seek independent tax advice prior to an investment in the Securities. The Issuer, Dealer and members of the Bank Group do not provide tax advice. To the extent that any general information is provided with regard to tax, this is for information purposes only and should neither be construed as tax advice nor should it be relied on, or treated as a substitute for seeking independent tax advice.\\nRBC Europe Limited Registered in England and Wales: 995939 RBC Europe Limited Registered Address: 100 Bishopsgate London EC2N 4AA\\nAuthorised by the Prudential Regulatory Authority (\"PRA\") and regulated by the Financial Conduct Authority (\"FCA\") and the PRA\\n7 / 12\\nMedia Distribution\\nNO\\nIV. OTHER INFORMATION\\nSALES RESTRICTION\\nEEA Retail Investor Offering Information UK Retail Investor Offering Information\\nThe Base Prospectus (as contemplated by the Final Terms of the Notes) has been prepared on the basis that any offer of Notes in any Member State of the European Economic Area (“EEA”) which has implemented Regulation (EU) 2017/1129 (the “Prospectus Regulation”) will be made pursuant to an exemption under the Prospectus Regulation, as implemented in the Relevant State, from the requirement to publish a prospectus for offers of Notes. Accordingly, the Notes should not be sold or offered, directly or indirectly, to persons in any Relevant State except in circumstances which would not require the publication of a prospectus and any person making or intending to make an offer in that Relevant State of Notes should only do so in circumstances in which no obligation arises for the Issuer or RBC Europe Limited to publish a prospectus pursuant to Article 3 of the Prospectus Regulation or supplement a prospectus pursuant to Article 23 of the Prospectus Regulation in relation to such offer. No recipient of this termsheet is authorized by any person to act in a way which would result in an offer to it being considered to be a placement through an intermediary for the purposes of the Prospectus Regulation. The Securities are not intended to be offered, sold or otherwise made available to and should not be offered, sold or otherwise made available to any retail investor in the EEA without an up-to-date PRIIPS KID being in place with the prior written consent of RBC Europe Limited and provided in accordance with the PRIIPS Regulation. For these purposes, a retail investor means a person who is one (or more) of: (i) a retail client as defined in point (11) of Article 4(1) of Directive 2014/65/EU (as amended, “MiFID II”); or (ii) a customer within the meaning of Directive (EU) 2016/97, where that customer would not qualify as a professional client as defined in point (10) of Article 4(1) of MiFID II; or (iii) not a qualified investor as defined in Regulation (EU) 2017/1129. If the aforementioned consent of RBC Europe Limited has not been received then no key information document required by Regulation (EU) No 1286/2014 (as amended, the “PRIIPs Regulation”) for offering or selling the Notes or otherwise making them available to retail investors in the EEA has been prepared and therefore offering or selling the Notes or otherwise making them available to any retail investor in the EEA may be unlawful under the PRIIPs Regulation.\\nThe Securities are not intended to be offered, sold or otherwise made available to and should not be offered, sold or otherwise made available to any retail investor in the United Kingdom (“UK”) without an up-to-date UK PRIIPS KID being in place with the prior written consent of RBC Europe Limited and provided in accordance with the UK PRIIPS Regulation. For these purposes, a retail investor means a person who is one (or more) of: (i) a retail client as defined in point (8) of Article 2 of Regulation (EU) No 2017/565 as it forms part of domestic law by virtue of the European Union (Withdrawal) Act 2018 (“EUWA”); or (ii) a customer within the meaning of provisions of the FSMA and any rules or regulations made under the Financial Services and Markets Act 2000 (the “FSMA”) to implement Directive (EU) 2016/97, where that customer would not qualify as a professional client, as defined in point (8) of Article 2(1) of Regulation (EU) No 600/2014 as it forms part of domestic law by virtue of the EUWA; or (iii) as defined in Article 2 of Regulation (EU) 2017/1129 as it forms part of domestic law by virtue of the EUWA. If the aforementioned consent of RBC Europe Limited has not been received then no key information document (“KID”) required by Regulation (EU) No 1286/2014 as it forms part of domestic law by virtue of the EUWA (the “UK PRIIPs Regulation”) for offering or selling the Securities or otherwise making them available to retail investors in the UK has been prepared and therefore offering or selling the Securities or otherwise making them available to any retail investor in the UK may be unlawful under the UK PRIIPs Regulation.\\nAdditional UK Offering Information\\nEach Dealer has represented, warranted and agreed, and each further Dealer appointed under the Programme will be required to represent and agree, that:\\nRBC Europe Limited Registered in England and Wales: 995939 RBC Europe Limited Registered Address: 100 Bishopsgate London EC2N 4AA\\nAuthorised by the Prudential Regulatory Authority (\"PRA\") and regulated by the Financial Conduct Authority (\"FCA\") and the PRA\\n8 / 12\\n(a) it has only communicated or caused to be communicated and will only communicate or cause to be communicated an invitation or inducement to engage in investment activity (within the meaning of Section 21 of the FSMA) received by it in connection with the issue or sale of any Securities in circumstances in which Section 21(1) of the FSMA would not, if the Issuer was not an authorized person, apply to the Issuer; and (b) it has complied and will comply with all applicable provisions of the FSMA with respect to anything done by it in relation to any Securities in, from or otherwise involving the United Kingdom.\\nUS Offering Information\\nThis doccument is not an offer of securities for sale in the United States. The Notes have not been and will not be registered under the US Securities Act of 1933, as amended (the “Securities Act”) or any state securities laws, and may not at any time be offered, pledged, sold or otherwise transferred, directly or indirectly, in the United States or to, or for the account or benefit of, US Persons (as such term is defined in Regulation S under the Securities Act) unless registered under the Securities Act or pursuant to an exemption from such registration.\\nSwiss Offering Information\\nEach offeror acknowledges and agrees that, subject to the applicable transitional provisions under the FinSA and the implementing FinSO, the Notes have not been offered and will not be offered, directly or indirectly, to the public in Switzerland, and have not distributed or caused to be distributed and will not distribute or cause to be distributed to the public in Switzerland, the Base Prospectus, this doccument or any other offering material relating to the Notes, other than pursuant to an exemption under Article 36(1) FinSA or where such offer or distribution does not qualify as a public offer in Switzerland. For these purposes, “public offer” refers to the respective definitions in Article 3(g) and (h) FinSA and as further detailed in FinSO.\\nCanadian Offering Information\\nThe Notes have not been and will not be qualified for sale under the securities laws of any province or territory of Canada. Each Dealer has represented and agreed that it has not offered, sold or distributed and will not offer, sell or distribute any securities, directly or indirectly, in Canada or to or for the benefit of any resident of Canada, other than in compliance with applicable securities laws. Each Dealer has also represented and agreed that it has not distributed or delivered and will not distribute or deliver this doccument, or any other offering material in connection with any offering of the securities, in Canada other than in compliance with applicable securities laws.\\nHong Kong Offering Information\\nWARNING\\nThe contents of this doccument have not been reviewed by any regulatory authority in Hong Kong or any other jurisdiction. You are advised to exercise caution in relation to the offer. If you are in any doubt about any of the contents of this doccument, you should obtain independent professional advice.\\nThis is a structured product which involves derivatives. Do not invest in it unless you fully understand and are willing to assume the risks associated with it. If you are in any doubt about the risks involved in the product, you may clarify with the intermediary or seek independent professional advice. This doccument has not been approved by the Securities and Futures Commission in Hong Kong and, accordingly, (i) the Notes (except for Notes which are “structured products” as defined in the Securities and Futures Ordinance (Cap. 571) of Hong Kong (the “SFO”)) may not be offered or sold in Hong Kong by means of this doccument or any other document other than to “professional investors” as defined in the SFO and any rules made thereunder, or in other circumstances which do not result in the doccument being a “prospectus” as defined in the Companies (Winding Up and Miscellaneous Provisions) Ordinance (Cap. 32) of Hong Kong (the “C(WUMP)O”) or which do not constitute an offer to the public within the meaning of C(WUMP)O, and (ii) no person shall issue or possess for the purposes of issue, whether in Hong Kong or elsewhere, any advertisement, invitation or doccument relating to the Notes which is directed at, or the contents of which are likely to be accessed or read by, the public of Hong Kong (except if permitted to do so under the securities laws of Hong Kong) other than with respect to the Notes which are or are intended to be disposed of only to persons outside Hong Kong or only to “professional investors” as defined in the\\nAuthorised by the Prudential Regulatory Authority (\"PRA\") and regulated by the Financial Conduct Authority (\"FCA\") and the PRA\\nRBC Europe Limited Registered in England and Wales: 995939 RBC Europe Limited Registered Address: 100 Bishopsgate London EC2N 4AA\\n9 / 12\\nSecurities and Futures Ordinance and any rules made thereunder. For distribution through Hong Kong, Royal Bank of Canada Hong Kong Branch and/or its associates will receive monetary benefits in distributing this product.\\nSingapore Offering Information\\nEach Dealer acknowledges that the Base Prospectus has not been, and will not be, registered as a prospectus with the Monetary Authority of Singapore. Accordingly, each Dealer represents, warrants, and agrees that it has not offered or sold any Notes or caused the Notes to be made the subject of an invitation for subscription or purchase and will not offer or sell any Notes or cause the Notes to be made the subject of an invitation for subscription or purchase, and has not circulated or distributed, nor will it circulate or distribute, the Base Prospectus, this termsheet or any other document or material in connection with the offer or sale, or invitation for subscription or purchase, of any Notes, whether directly or indirectly, to any person in Singapore other than (a) to an institutional investor (as defined in Section 4A of the SFA) pursuant to Section 274 of the SFA, (b) to a relevant person (as defined in Section 275(2) of the SFA) pursuant to Section 275(1) of the SFA, or to any person pursuant to Section 275(1A) of the SFA and in accordance with the conditions specified in Section 275 of the SFA or (c) otherwise pursuant to, and in accordance with the conditions of, any other applicable provision of the SFA. Where the Notes are subscribed or purchased under Section 275 of the SFA by a relevant person which is:\\n(a) a corporation (which is not an accredited investor (as defined in Section 4A of the SFA) the sole business of which is to hold investments and the entire share capital of which is owned by one or more individuals, each of whom is accredited investor; or\\n(b) a trust (where the trustee is not an accredited investor) whose sole purpose is to hold investments and each beneficiary is an individual who is an accredited investor, securities or securities-based derivative contracts (each term as defined in Section 2(1) of the SFA) of that corporation or the beneficiaries\\' rights and interest (howsoever described) in that trust shall not be transferred within 6 months after that corporation or that trust has acquired the Notes pursuant to an offer made under Section 275 of the SFA except:\\n(i) to an institutional investor or to a relevant person or to any person arising from an offer referred to in Section 275(1A) or Section 276(4)(i)(B) of the SFA; (ii) where no consideration is or will be given for the transfer; (iii) where the transfer is by operation of law;\\n(iv) as specified in Section 276(7) of the SFA; or\\n(v) as specified in Regulation 37A of the Securities and Futures (Offers of Investments) (Securities and Securities–based Derivatives Contracts) Regulations 2018 of Singapore.\\nUAE (excluding Dubai International Financial Centre) Offering Information\\nEach Dealer has represented and agreed that Notes have not been, and will not be, offered, sold or publicly promoted or advertised by it in the United Arab Emirates other than in compliance with any laws applicable in the United Arab Emirates governing the issue, offering and sale of Notes.\\nBahrain Offering Information\\nThis doccument has been prepared for information purposes of intended investors only who will be high net worth individuals and institutions. The issuer represents and warrants that it has not made and will not make any invitation in or from the kingdom of Bahrain and will not market or offer the securities to any potential investor in Bahrain. All marketing and offering is made and will be made outside the kingdom of Bahrain. The central bank of Bahrain has not reviewed, nor has it approved, this doccument or the marketing of the securities and takes no responsibility for the accuracy of the statements and information contained in this doccument , nor shall it have any liability to any person for any loss or damage resulting from reliance on any statements or information contained herein.\\nIsrael Offering Information\\nIsraeli Securities law. Neither such offering nor the Notes have been qualified or approved by the Israeli Securities Authority or any other government or regulatory body. RBC is not licensed under The Regularization of Engagement in Investment\\nRBC Europe Limited Registered in England and Wales: 995939 RBC Europe Limited Registered Address: 100 Bishopsgate London EC2N 4AA\\nAuthorised by the Prudential Regulatory Authority (\"PRA\") and regulated by the Financial Conduct Authority (\"FCA\") and the PRA\\n10 / 12\\nCounselling Investment Marketing and Portfolio Management Law, 1995 (the “Counselling Law”) and therefore, RBC does not carry insurance as would be required if RBC were licensed. The purchaser represents, warrants and covenants that: (i) the purchaser is acquiring the Notes as a principal only and not as an agent of Royal Bank of Canada, (ii) all risks associated with the holding or owning of the Notes are irrevocably transferred to the purchaser upon the purchase of such Notes by the purchaser, (iii) the purchaser will not share with RBC any gains or losses it realizes in connection with the Notes; (iv) neither RBC nor RBC EL has provided the purchaser with any investment advice in connection with the purchaser’s purchase of the Notes and the purchaser has consulted with its own investment advisors in connection therewith; (v) to the extent relevant to the purchaser. The purchaser will comply with the applicable provisions of Israel’s Currency Control Law, 1978 and the amended Currency Control Permit, 1998 promulgated thereunder in connection with the Notes; and (vi) the purchaser shall at all times comply with Israeli and other applicable laws and regulations, including securities laws and regulation, in connection with Notes and the purchaser shall take no action which would or not fail to take any action if the failure would cause RBC or RBC EL to be in violation of any such laws or regulations.\\nMonaco Offering Information\\nThe securities may not be offered or sold, directly or indirectly, to the public in Monaco other than by a Monaco Bank or a duly authorized Monegasque intermediary. Consequently, this document may only be communicated to Monaco banks duly licensed by the “Autorité de Contrôle Prudentiel” and fully licensed Monaco portfolio management companies by virtue of Law n° 1.144 of July 26, 1991 and Law 1.338, of September 7, 2007 duly licensed by the “Commission de Contrôle des Activités Financières”(“CCAF”). Such regulated intermediaries may in turn communicate this document to potential investors.\\nDubai International Financial Centre Offering Information\\nEach Dealer has represented and agreed that it has not offered and will not offer Notes to any person in the Dubai International Financial Centre unless such offer is:\\n(a) An “Exempt Offer” in accordance with the Market Rules (MKT) Module of the Dubai Financial Services Authority (the “DFSA”) rulebook; and (b) Made only to persons who meet the Professional Client criteria set out in Rule 2.3.3 of the Conduct of Business Module of the DFSA rulebook.\\nJapan Offering Information\\nNo registration pursuant to Article 4, Paragraph 1 of the Financial Instruments and Exchange Act of Japan (Act No. 25 of 1948, as amended) (the “FIEA”) has been made or will be made with respect to the Notes. The Dealer has represented and agreed, and each further Dealer appointed under the Base Prospectus will be required to represent and agree, that it will not offer or sell any Notes, directly or indirectly, in Japan or to, or for the benefit of, any Resident of Japan (as defined under Article 6, Paragraph 1, Item 5 of the Foreign Exchange and Foreign Trade Act (Act No. 228 of 1949, as amended)), or to others for re-offering or resale, directly or indirectly, in Japan or to, or for the benefit of a resident of Japan except pursuant to an exemption from the registration requirements of, and otherwise in compliance with, the FIEA and any other applicable laws, regulations and ministerial guidelines of Japan.\\nRBC Europe Limited Registered in England and Wales: 995939 RBC Europe Limited Registered Address: 100 Bishopsgate London EC2N 4AA\\nAuthorised by the Prudential Regulatory Authority (\"PRA\") and regulated by the Financial Conduct Authority (\"FCA\") and the PRA\\n11 / 12\\nTHE ABOVE IS A SUMMARY OF THE TERMS AND CONDITIONS OF A PROPOSED TRANSACTION AND DOES NOT INCLUDE ALL DEFINED TERMS. WHEN MAKING AN INVESTMENT DECISION, ANY PROSPECTIVE INVESTOR SHOULD RELY SOLELY ON THE FINAL PRICING SUPPLEMENT, WHICH WILL CONTAIN THE FINAL TERMS AND CONDITIONS OF THE TRANSACTION, NOT ON THE SUMMARY ABOVE.\\nThis document has been prepared by RBC Capital Markets (“RBCCM”) for discussion and/or information purposes only and does not constitute either an offer or the solicitation of an offer to enter into securities or any other transaction. This document is a summary of the terms and conditions of the transaction described herein. It is not intended to set forth a final expression of the terms and conditions of any transaction and it may be amended, superseded or replaced in its entirety by subsequent summaries and should not be relied on. Should a transaction ultimately be entered into between us, the final terms and conditions of the transaction will be set out in full in a binding transaction document and reference should be made only to such document and not this final termsheet for definitive information.. This document shall not constitute an underwriting commitment, an offer to sell, or the solicitation of an offer to buy any securities, commodities or other instruments, or a recommendation to enter into any transaction by any RBC entity. Nor is it an official or unofficial confirmation of terms. Although the information set forth herein is reflective of terms, as of the date of this communication, under which we believe an issuance of securities or other transactions might be structured, no assurance can be given that such an issuance or transaction could in fact be executed, nor is any entity obligated to issue such securities or obligations or enter into any transaction. To the extent that you subsequently enter into a transaction with RBC and/or any of its affiliates this would be on the basis that you were transacting with us as principal (and not as agent or in any other capacity, fiduciary or otherwise) and no other person would have an interest herein.\\nThe information contained in this document has been internally developed or taken from trade and statistical services and other sources which we deem reliable, but no warranty is made that such information is accurate or complete and it should not be relied upon as such.\\nTransactions of the type described herein may involve a high degree of risk and the value of such investments may be highly volatile. Such risks may include without limitation risk of adverse or unanticipated market developments, risk of issuers default and risk of liquidity. In certain transactions counterparties may lose their entire investment or incur an unlimited loss.\\nThis brief statement does not purport to identify or suggest all the risks (directly or indirectly) and other significant aspects in connection with transactions of the type described herein, and counterparties should ensure that they fully understand the terms of the transaction, including the relevant risk factors and any legal, tax, regulatory or accounting considerations applicable to them, prior to transacting. No representation is made concerning the legal, tax, regulatory or accounting implications in any applicable jurisdiction and we are not advising you in respect of such matters. Accordingly you must independently determine, with your own advisors, the appropriateness for you of the transaction before transacting. To the fullest extent permissible by law, RBCCM accepts no liability for any loss (including consequential losses) arising from the use of this document or reliance on the information contained herein. RBCCM is acting solely in the capacity of an arm’s length contractual counterparty and not in the capacity of your financial adviser or fiduciary.\\nRBC Capital Markets is a business name used by certain branches, subsidiaries and business units of Royal Bank of Canada including RBC Europe Limited, Royal Bank of Canada, London Branch, RBC Dominion Securities Inc., RBC Capital Markets, LLC, Royal Bank of Canada - Hong Kong Branch, RBC Capital Markets (Hong Kong) Limited and Royal Bank of Canada - Sydney Branch. RBC Europe Limited is authorized and regulated by the Prudential Regulation Authority and regulated by the Financial Conduct Authority and the Prudential Regulation Authority and Royal Bank of Canada, London Branch a is authorized and regulated by the Office of the Superintendent of Financial Institutions of Canada and by the Prudential Regulation Authority. This document is approved for issue in the UK by RBC Europe Limited which is an authorized and regulated by the Financial Conduct Authority.\\nNo part of this may be reproduced, distributed or transmitted without the prior written permission of RBC Europe Limited. © RBC Europe Limited 2021 (all rights reserved).\\nRBC Europe Limited Registered in England and Wales: 995939 RBC Europe Limited Registered Address: 100 Bishopsgate London EC2N 4AA\\nAuthorised by the Prudential Regulatory Authority (\"PRA\") and regulated by the Financial Conduct Authority (\"FCA\") and the PRA\\n12 / 12'}"
     },
     "execution_count": 141,
     "metadata": {},
     "output_type": "execute_result"
    }
   ],
   "source": [
    "json"
   ],
   "metadata": {
    "collapsed": false,
    "ExecuteTime": {
     "end_time": "2023-11-20T00:41:40.635373Z",
     "start_time": "2023-11-20T00:41:40.623830Z"
    }
   }
  },
  {
   "cell_type": "code",
   "execution_count": 142,
   "outputs": [
    {
     "data": {
      "text/plain": "dict_keys(['key-value_pairs', 'full_text'])"
     },
     "execution_count": 142,
     "metadata": {},
     "output_type": "execute_result"
    }
   ],
   "source": [
    "json.keys()"
   ],
   "metadata": {
    "collapsed": false,
    "ExecuteTime": {
     "end_time": "2023-11-20T00:41:41.643722Z",
     "start_time": "2023-11-20T00:41:41.636815Z"
    }
   }
  },
  {
   "cell_type": "code",
   "execution_count": 164,
   "outputs": [
    {
     "data": {
      "text/plain": "['EUR', 0.91]"
     },
     "execution_count": 164,
     "metadata": {},
     "output_type": "execute_result"
    }
   ],
   "source": [
    "json['key-value_pairs']['Currency']"
   ],
   "metadata": {
    "collapsed": false,
    "ExecuteTime": {
     "end_time": "2023-11-20T01:52:28.589508Z",
     "start_time": "2023-11-20T01:52:28.577675Z"
    }
   }
  },
  {
   "cell_type": "code",
   "execution_count": 161,
   "outputs": [
    {
     "data": {
      "text/plain": "49264"
     },
     "execution_count": 161,
     "metadata": {},
     "output_type": "execute_result"
    }
   ],
   "source": [
    "\n",
    "len(json['full_text'])"
   ],
   "metadata": {
    "collapsed": false,
    "ExecuteTime": {
     "end_time": "2023-11-20T01:33:52.050015Z",
     "start_time": "2023-11-20T01:33:51.588263Z"
    }
   }
  },
  {
   "cell_type": "code",
   "execution_count": 149,
   "outputs": [],
   "source": [
    "import json as j"
   ],
   "metadata": {
    "collapsed": false,
    "ExecuteTime": {
     "end_time": "2023-11-20T00:42:57.886694Z",
     "start_time": "2023-11-20T00:42:57.875448Z"
    }
   }
  },
  {
   "cell_type": "code",
   "execution_count": 150,
   "outputs": [],
   "source": [
    "document_name= '/Users/vtwoptwo/Desktop/docs/robotics_club/hackathons/ai-hackathon/data_0611/OCR_output/AB3ZFW - RBC 18-Month EUR Twin Win Autocallable on Societe Generale SA.json'\n",
    "with open(document_name, 'r') as f:\n",
    "    loaded_json = j.loads(f.read())"
   ],
   "metadata": {
    "collapsed": false,
    "ExecuteTime": {
     "end_time": "2023-11-20T00:43:00.972083Z",
     "start_time": "2023-11-20T00:43:00.964606Z"
    }
   }
  },
  {
   "cell_type": "code",
   "execution_count": 153,
   "outputs": [
    {
     "data": {
      "text/plain": "dict_keys(['key-value_pairs', 'full_text'])"
     },
     "execution_count": 153,
     "metadata": {},
     "output_type": "execute_result"
    }
   ],
   "source": [
    "loaded_json['full_']"
   ],
   "metadata": {
    "collapsed": false,
    "ExecuteTime": {
     "end_time": "2023-11-20T00:43:21.247759Z",
     "start_time": "2023-11-20T00:43:21.237802Z"
    }
   }
  },
  {
   "cell_type": "markdown",
   "source": [],
   "metadata": {
    "collapsed": false
   }
  },
  {
   "cell_type": "code",
   "execution_count": 154,
   "outputs": [],
   "source": [
    "loaded_json_key_value_pairs = loaded_json['key-value_pairs']"
   ],
   "metadata": {
    "collapsed": false,
    "ExecuteTime": {
     "end_time": "2023-11-20T00:43:37.305554Z",
     "start_time": "2023-11-20T00:43:37.300636Z"
    }
   }
  },
  {
   "cell_type": "code",
   "execution_count": 158,
   "outputs": [
    {
     "data": {
      "text/plain": "[None, 0.623]"
     },
     "execution_count": 158,
     "metadata": {},
     "output_type": "execute_result"
    }
   ],
   "source": [
    "loaded_json_key_value_pairs.keys()\n",
    "loaded_json = loaded_json_key_value_pairs['Issuer']\n",
    "loaded_json"
   ],
   "metadata": {
    "collapsed": false,
    "ExecuteTime": {
     "end_time": "2023-11-20T00:44:20.285278Z",
     "start_time": "2023-11-20T00:44:20.277898Z"
    }
   }
  },
  {
   "cell_type": "code",
   "execution_count": 145,
   "outputs": [
    {
     "data": {
      "text/plain": "49264"
     },
     "execution_count": 145,
     "metadata": {},
     "output_type": "execute_result"
    }
   ],
   "source": [
    "len(json['full_text'])"
   ],
   "metadata": {
    "collapsed": false,
    "ExecuteTime": {
     "end_time": "2023-11-20T00:41:47.161294Z",
     "start_time": "2023-11-20T00:41:47.151192Z"
    }
   }
  },
  {
   "cell_type": "code",
   "execution_count": 98,
   "outputs": [],
   "source": [
    "from langchain.text_splitter import CharacterTextSplitter\n",
    "from langchain.vectorstores import FAISS\n",
    "from langchain.embeddings import OpenAIEmbeddings\n",
    "from langchain.document_loaders import TextLoader\n",
    "documents = json['full_text']\n",
    "text_splitter = CharacterTextSplitter(chunk_size=1000, chunk_overlap=0, separator=\" \")\n",
    "texts = text_splitter.split_text(documents)\n",
    "embeddings = OpenAIEmbeddings()\n",
    "db = FAISS.from_texts(texts, embeddings)"
   ],
   "metadata": {
    "collapsed": false,
    "ExecuteTime": {
     "end_time": "2023-11-20T00:15:21.881238Z",
     "start_time": "2023-11-20T00:15:20.359675Z"
    }
   }
  },
  {
   "cell_type": "code",
   "execution_count": 99,
   "outputs": [],
   "source": [
    "retriever = db.as_retriever()"
   ],
   "metadata": {
    "collapsed": false,
    "ExecuteTime": {
     "end_time": "2023-11-20T00:15:22.343051Z",
     "start_time": "2023-11-20T00:15:22.338877Z"
    }
   }
  },
  {
   "cell_type": "code",
   "execution_count": 99,
   "outputs": [],
   "source": [],
   "metadata": {
    "collapsed": false,
    "ExecuteTime": {
     "end_time": "2023-11-20T00:15:22.787869Z",
     "start_time": "2023-11-20T00:15:22.785001Z"
    }
   }
  },
  {
   "cell_type": "code",
   "execution_count": 100,
   "outputs": [
    {
     "data": {
      "text/plain": "VectorStoreRetriever(tags=['FAISS', 'OpenAIEmbeddings'], vectorstore=<langchain.vectorstores.faiss.FAISS object at 0x15265ee60>, search_kwargs={'k': 2})"
     },
     "execution_count": 100,
     "metadata": {},
     "output_type": "execute_result"
    }
   ],
   "source": [
    "db.as_retriever(search_kwargs={\"k\": 2})"
   ],
   "metadata": {
    "collapsed": false,
    "ExecuteTime": {
     "end_time": "2023-11-20T00:15:23.168809Z",
     "start_time": "2023-11-20T00:15:23.166304Z"
    }
   }
  },
  {
   "cell_type": "code",
   "execution_count": 101,
   "outputs": [],
   "source": [
    "\n",
    "docs = retriever.get_relevant_documents(\"Who is the issuer of this term sheet?\", )\n"
   ],
   "metadata": {
    "collapsed": false,
    "ExecuteTime": {
     "end_time": "2023-11-20T00:15:23.949763Z",
     "start_time": "2023-11-20T00:15:23.652045Z"
    }
   }
  },
  {
   "cell_type": "code",
   "execution_count": 102,
   "outputs": [
    {
     "data": {
      "text/plain": "4"
     },
     "execution_count": 102,
     "metadata": {},
     "output_type": "execute_result"
    }
   ],
   "source": [
    "len(docs)"
   ],
   "metadata": {
    "collapsed": false,
    "ExecuteTime": {
     "end_time": "2023-11-20T00:15:24.402829Z",
     "start_time": "2023-11-20T00:15:24.398227Z"
    }
   }
  },
  {
   "cell_type": "code",
   "execution_count": 103,
   "outputs": [
    {
     "data": {
      "text/plain": "[Document(page_content='own objectives and circumstances, including the possible risks, benefits and also the tax implications of entering into this proposed transaction. The information in this termsheet does not constitute financial, tax or legal advice and should not be used as a substitute for seeking professional advice. The Dealer is acting as an arm’s length counterparty and not as an advisor or fiduciary. It is strongly recommended that potential investors consult their own professional advisers. Institutions referencing this termsheet or extracting information from this termsheet to provide to their clients should ensure that the information satisfies their local jurisdictional requirements and applicable securities laws for conducting business, including any applicable suitability and appropriateness assessment. Investments of a type described herein should only be sold to investors that have the necessary knowledge and experience to fully understand the related risks and are able to bear such'),\n Document(page_content='an offer in that Relevant State of Notes should only do so in circumstances in which no obligation arises for the Issuer or RBC Europe Limited to publish a prospectus pursuant to Article 3 of the Prospectus Regulation or supplement a prospectus pursuant to Article 23 of the Prospectus Regulation in relation to such offer. No recipient of this termsheet is authorized by any person to act in a way which would result in an offer to it being considered to be a placement through an intermediary for the purposes of the Prospectus Regulation. The Securities are not intended to be offered, sold or otherwise made available to and should not be offered, sold or otherwise made available to any retail investor in the EEA without an up-to-date PRIIPS KID being in place with the prior written consent of RBC Europe Limited and provided in accordance with the PRIIPS Regulation. For these purposes, a retail investor means a person who is one (or more) of: (i) a retail client as defined in point (11) of'),\n Document(page_content='or replaced in its entirety by subsequent summaries and should not be relied on. Should a transaction ultimately be entered into between us, the final terms and conditions of the transaction will be set out in full in a binding transaction document and reference should be made only to such document and not this final termsheet for definitive information.. This document shall not constitute an underwriting commitment, an offer to sell, or the solicitation of an offer to buy any securities, commodities or other instruments, or a recommendation to enter into any transaction by any RBC entity. Nor is it an official or unofficial confirmation of terms. Although the information set forth herein is reflective of terms, as of the date of this communication, under which we believe an issuance of securities or other transactions might be structured, no assurance can be given that such an issuance or transaction could in fact be executed, nor is any entity obligated to issue such securities or'),\n Document(page_content='this product.\\nSingapore Offering Information\\nEach Dealer acknowledges that the Base Prospectus has not been, and will not be, registered as a prospectus with the Monetary Authority of Singapore. Accordingly, each Dealer represents, warrants, and agrees that it has not offered or sold any Notes or caused the Notes to be made the subject of an invitation for subscription or purchase and will not offer or sell any Notes or cause the Notes to be made the subject of an invitation for subscription or purchase, and has not circulated or distributed, nor will it circulate or distribute, the Base Prospectus, this termsheet or any other document or material in connection with the offer or sale, or invitation for subscription or purchase, of any Notes, whether directly or indirectly, to any person in Singapore other than (a) to an institutional investor (as defined in Section 4A of the SFA) pursuant to Section 274 of the SFA, (b) to a relevant person (as defined in Section 275(2) of the SFA)')]"
     },
     "execution_count": 103,
     "metadata": {},
     "output_type": "execute_result"
    }
   ],
   "source": [
    "docs"
   ],
   "metadata": {
    "collapsed": false,
    "ExecuteTime": {
     "end_time": "2023-11-20T00:15:25.095196Z",
     "start_time": "2023-11-20T00:15:25.090198Z"
    }
   }
  },
  {
   "cell_type": "code",
   "execution_count": 123,
   "outputs": [],
   "source": [
    "# ok so we have a list of documents, now we need to find the one that is the issuer\n",
    "prompt = PromptTemplate.from_template(\n",
    "    \"Take a deep breath and relax. Think step by step.\"\n",
    "    \"I have the following  document of a term sheet\"\n",
    "    \"I need to find the Issuer (which is basically the company issuing the term sheet)\"\n",
    "    \"The format of the issuer is usually an acronym of the company name\"\n",
    "    \"It is really important that you get this right, because my life depends on it!\\n\"\n",
    "    \"Example:\"\n",
    "    \"Context: Issuer: BNP Paribas Issuance B.V. (S&P's A+)\"\n",
    "    \"Issuer: BNP\\n\\n\"\n",
    "    \"I am going to give you a chunk of text, and you need to tell me which one is the issuer of the document\\n\\n\"\n",
    "    \"Context:{context}\\n\"\n",
    "    \"Issuer: <your answer here>\"\n",
    ")"
   ],
   "metadata": {
    "collapsed": false,
    "ExecuteTime": {
     "end_time": "2023-11-20T00:30:53.130680Z",
     "start_time": "2023-11-20T00:30:53.122560Z"
    }
   }
  },
  {
   "cell_type": "code",
   "execution_count": 124,
   "outputs": [],
   "source": [
    "full_context = ''\n",
    "for doc in docs:\n",
    "    full_context += '\\n'+ doc.page_content"
   ],
   "metadata": {
    "collapsed": false,
    "ExecuteTime": {
     "end_time": "2023-11-20T00:30:53.567059Z",
     "start_time": "2023-11-20T00:30:53.563652Z"
    }
   }
  },
  {
   "cell_type": "code",
   "execution_count": 125,
   "outputs": [
    {
     "data": {
      "text/plain": "'\\nown objectives and circumstances, including the possible risks, benefits and also the tax implications of entering into this proposed transaction. The information in this termsheet does not constitute financial, tax or legal advice and should not be used as a substitute for seeking professional advice. The Dealer is acting as an arm’s length counterparty and not as an advisor or fiduciary. It is strongly recommended that potential investors consult their own professional advisers. Institutions referencing this termsheet or extracting information from this termsheet to provide to their clients should ensure that the information satisfies their local jurisdictional requirements and applicable securities laws for conducting business, including any applicable suitability and appropriateness assessment. Investments of a type described herein should only be sold to investors that have the necessary knowledge and experience to fully understand the related risks and are able to bear such\\nan offer in that Relevant State of Notes should only do so in circumstances in which no obligation arises for the Issuer or RBC Europe Limited to publish a prospectus pursuant to Article 3 of the Prospectus Regulation or supplement a prospectus pursuant to Article 23 of the Prospectus Regulation in relation to such offer. No recipient of this termsheet is authorized by any person to act in a way which would result in an offer to it being considered to be a placement through an intermediary for the purposes of the Prospectus Regulation. The Securities are not intended to be offered, sold or otherwise made available to and should not be offered, sold or otherwise made available to any retail investor in the EEA without an up-to-date PRIIPS KID being in place with the prior written consent of RBC Europe Limited and provided in accordance with the PRIIPS Regulation. For these purposes, a retail investor means a person who is one (or more) of: (i) a retail client as defined in point (11) of\\nor replaced in its entirety by subsequent summaries and should not be relied on. Should a transaction ultimately be entered into between us, the final terms and conditions of the transaction will be set out in full in a binding transaction document and reference should be made only to such document and not this final termsheet for definitive information.. This document shall not constitute an underwriting commitment, an offer to sell, or the solicitation of an offer to buy any securities, commodities or other instruments, or a recommendation to enter into any transaction by any RBC entity. Nor is it an official or unofficial confirmation of terms. Although the information set forth herein is reflective of terms, as of the date of this communication, under which we believe an issuance of securities or other transactions might be structured, no assurance can be given that such an issuance or transaction could in fact be executed, nor is any entity obligated to issue such securities or\\nthis product.\\nSingapore Offering Information\\nEach Dealer acknowledges that the Base Prospectus has not been, and will not be, registered as a prospectus with the Monetary Authority of Singapore. Accordingly, each Dealer represents, warrants, and agrees that it has not offered or sold any Notes or caused the Notes to be made the subject of an invitation for subscription or purchase and will not offer or sell any Notes or cause the Notes to be made the subject of an invitation for subscription or purchase, and has not circulated or distributed, nor will it circulate or distribute, the Base Prospectus, this termsheet or any other document or material in connection with the offer or sale, or invitation for subscription or purchase, of any Notes, whether directly or indirectly, to any person in Singapore other than (a) to an institutional investor (as defined in Section 4A of the SFA) pursuant to Section 274 of the SFA, (b) to a relevant person (as defined in Section 275(2) of the SFA)'"
     },
     "execution_count": 125,
     "metadata": {},
     "output_type": "execute_result"
    }
   ],
   "source": [
    "full_context"
   ],
   "metadata": {
    "collapsed": false,
    "ExecuteTime": {
     "end_time": "2023-11-20T00:30:53.955051Z",
     "start_time": "2023-11-20T00:30:53.952408Z"
    }
   }
  },
  {
   "cell_type": "code",
   "execution_count": 126,
   "outputs": [],
   "source": [
    "final_prompt = prompt.format(context=full_context)"
   ],
   "metadata": {
    "collapsed": false,
    "ExecuteTime": {
     "end_time": "2023-11-20T00:30:54.379025Z",
     "start_time": "2023-11-20T00:30:54.375734Z"
    }
   }
  },
  {
   "cell_type": "code",
   "execution_count": 127,
   "outputs": [
    {
     "data": {
      "text/plain": "\"Take a deep breath and relax. Think step by step.I have the following  document of a term sheetI need to find the Issuer (which is basically the company issuing the term sheet)The format of the issuer is usually an acronym of the company nameIt is really important that you get this right, because my life depends on it!\\nExample:Context: Issuer: BNP Paribas Issuance B.V. (S&P's A+)Issuer: BNP\\n\\nI am going to give you a chunk of text, and you need to tell me which one is the issuer of the document\\n\\nContext:\\nown objectives and circumstances, including the possible risks, benefits and also the tax implications of entering into this proposed transaction. The information in this termsheet does not constitute financial, tax or legal advice and should not be used as a substitute for seeking professional advice. The Dealer is acting as an arm’s length counterparty and not as an advisor or fiduciary. It is strongly recommended that potential investors consult their own professional advisers. Institutions referencing this termsheet or extracting information from this termsheet to provide to their clients should ensure that the information satisfies their local jurisdictional requirements and applicable securities laws for conducting business, including any applicable suitability and appropriateness assessment. Investments of a type described herein should only be sold to investors that have the necessary knowledge and experience to fully understand the related risks and are able to bear such\\nan offer in that Relevant State of Notes should only do so in circumstances in which no obligation arises for the Issuer or RBC Europe Limited to publish a prospectus pursuant to Article 3 of the Prospectus Regulation or supplement a prospectus pursuant to Article 23 of the Prospectus Regulation in relation to such offer. No recipient of this termsheet is authorized by any person to act in a way which would result in an offer to it being considered to be a placement through an intermediary for the purposes of the Prospectus Regulation. The Securities are not intended to be offered, sold or otherwise made available to and should not be offered, sold or otherwise made available to any retail investor in the EEA without an up-to-date PRIIPS KID being in place with the prior written consent of RBC Europe Limited and provided in accordance with the PRIIPS Regulation. For these purposes, a retail investor means a person who is one (or more) of: (i) a retail client as defined in point (11) of\\nor replaced in its entirety by subsequent summaries and should not be relied on. Should a transaction ultimately be entered into between us, the final terms and conditions of the transaction will be set out in full in a binding transaction document and reference should be made only to such document and not this final termsheet for definitive information.. This document shall not constitute an underwriting commitment, an offer to sell, or the solicitation of an offer to buy any securities, commodities or other instruments, or a recommendation to enter into any transaction by any RBC entity. Nor is it an official or unofficial confirmation of terms. Although the information set forth herein is reflective of terms, as of the date of this communication, under which we believe an issuance of securities or other transactions might be structured, no assurance can be given that such an issuance or transaction could in fact be executed, nor is any entity obligated to issue such securities or\\nthis product.\\nSingapore Offering Information\\nEach Dealer acknowledges that the Base Prospectus has not been, and will not be, registered as a prospectus with the Monetary Authority of Singapore. Accordingly, each Dealer represents, warrants, and agrees that it has not offered or sold any Notes or caused the Notes to be made the subject of an invitation for subscription or purchase and will not offer or sell any Notes or cause the Notes to be made the subject of an invitation for subscription or purchase, and has not circulated or distributed, nor will it circulate or distribute, the Base Prospectus, this termsheet or any other document or material in connection with the offer or sale, or invitation for subscription or purchase, of any Notes, whether directly or indirectly, to any person in Singapore other than (a) to an institutional investor (as defined in Section 4A of the SFA) pursuant to Section 274 of the SFA, (b) to a relevant person (as defined in Section 275(2) of the SFA)\\nIssuer: <your answer here>\""
     },
     "execution_count": 127,
     "metadata": {},
     "output_type": "execute_result"
    }
   ],
   "source": [
    "final_prompt"
   ],
   "metadata": {
    "collapsed": false,
    "ExecuteTime": {
     "end_time": "2023-11-20T00:30:54.876798Z",
     "start_time": "2023-11-20T00:30:54.873724Z"
    }
   }
  },
  {
   "cell_type": "code",
   "execution_count": 128,
   "outputs": [],
   "source": [
    "result = llm.invoke(final_prompt)"
   ],
   "metadata": {
    "collapsed": false,
    "ExecuteTime": {
     "end_time": "2023-11-20T00:31:24.979014Z",
     "start_time": "2023-11-20T00:31:24.377798Z"
    }
   }
  },
  {
   "cell_type": "code",
   "execution_count": 129,
   "outputs": [
    {
     "data": {
      "text/plain": "'\\nIssuer: RBC'"
     },
     "execution_count": 129,
     "metadata": {},
     "output_type": "execute_result"
    }
   ],
   "source": [
    "result"
   ],
   "metadata": {
    "collapsed": false,
    "ExecuteTime": {
     "end_time": "2023-11-20T00:31:26.980053Z",
     "start_time": "2023-11-20T00:31:26.964978Z"
    }
   }
  },
  {
   "cell_type": "code",
   "execution_count": null,
   "outputs": [],
   "source": [],
   "metadata": {
    "collapsed": false
   }
  }
 ],
 "metadata": {
  "kernelspec": {
   "display_name": "Python 3",
   "language": "python",
   "name": "python3"
  },
  "language_info": {
   "codemirror_mode": {
    "name": "ipython",
    "version": 2
   },
   "file_extension": ".py",
   "mimetype": "text/x-python",
   "name": "python",
   "nbconvert_exporter": "python",
   "pygments_lexer": "ipython2",
   "version": "2.7.6"
  }
 },
 "nbformat": 4,
 "nbformat_minor": 0
}
