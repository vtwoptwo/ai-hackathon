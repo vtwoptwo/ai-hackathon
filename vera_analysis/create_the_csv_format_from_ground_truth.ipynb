{
 "cells": [
  {
   "cell_type": "code",
   "execution_count": 2,
   "metadata": {
    "collapsed": true,
    "ExecuteTime": {
     "end_time": "2023-11-19T12:20:24.516626Z",
     "start_time": "2023-11-19T12:20:24.232685Z"
    }
   },
   "outputs": [],
   "source": [
    "import sys\n",
    "import os\n",
    "import pandas as pd"
   ]
  },
  {
   "cell_type": "code",
   "execution_count": 5,
   "outputs": [],
   "source": [
    "# load csv file\n",
    "csv_ground_truth = pd.read_csv('../data_0611/ground_truth_0611.csvx')"
   ],
   "metadata": {
    "collapsed": false,
    "ExecuteTime": {
     "end_time": "2023-11-19T12:21:07.622460Z",
     "start_time": "2023-11-19T12:21:07.619500Z"
    }
   }
  },
  {
   "cell_type": "code",
   "execution_count": 6,
   "outputs": [
    {
     "data": {
      "text/plain": "                                            File name          Isin Issuer  \\\n0   AB3ZFW - RBC 18-Month EUR Twin Win Autocallabl...  XS1878076543    RBC   \n1   AB5P75 - BNP 2-Year USD Bonus Certificate Wors...  XS2490610263    BNP   \n2   AB5PFT - BNP 2-Year USD Bonus Certificate Wors...  XS2490618670    BNP   \n3   EU2320735_20230302_XS2566031444_Decentia-USD-C...  XS2566031444   Citi   \n4                                    XS2021832634.pdf  XS2021832634    BNP   \n5                                    XS2033997748.pdf  XS2033997748    BNP   \n6                                    XS2317910607.pdf  XS2317910607    BNP   \n7                                    XS2333422389.pdf  XS2333422389    BNP   \n8                                    XS2355961215.pdf  XS2355961215    BNP   \n9                                    XS2358486194.pdf  XS2358486194    BNP   \n10                                   XS2424913601.pdf  XS2424913601     MS   \n11                                   XS2439264677.pdf  XS2439264677   Citi   \n12                                   XS2444480540.pdf  XS2444480540     GS   \n13                                   XS2472707103.pdf  XS2472707103    RBC   \n14                                   XS2474851479.pdf  XS2474851479   Citi   \n15                                   XS2493928639.pdf  XS2493928639   Citi   \n16                                   XS2497687744.pdf  XS2497687744   RBCD   \n17  XS2565974388_USD-TwinWin-18M-.SPX^M.STOXX50E-F...  XS2565974388   Citi   \n18  XS2575193920 (TS) - 5y USD Autocallable Note o...  XS2575193920     MS   \n\n    Ccy Underlying(s) Unnamed: 5 Unnamed: 6 Unnamed: 7 Unnamed: 8     Strike  \\\n0   EUR           GLE        NaN        NaN        NaN        NaN     33.164   \n1   USD          SX5E        UKX        SPX        NaN        NaN   4229.530   \n2   USD          SX5E        SMI        SPX        NaN        NaN   4096.540   \n3   USD           RTY       SXXP        NaN        NaN        NaN   1902.659   \n4   USD          SX5E        UKX        SPX        NaN        NaN   4209.630   \n5   USD           DAX        UKX       IBEX        NaN        NaN  15412.710   \n6   USD           RNO       VOW3        DAI       PAH3         GM     34.300   \n7   USD      FTSE MIB        NaN        NaN        NaN        NaN  26177.760   \n8   USD           DAX       INDU       IBEX        NaN        NaN  14026.920   \n9   USD           XLV        XLP        SPY        NaN        NaN    129.910   \n10  USD          SX5E        NKY        SPX        NaN        NaN   3924.230   \n11  USD          SX5E        NKY        SPX        NaN        NaN   4074.280   \n12  USD           UKX        SPX       SX5E        NaN        NaN   7207.380   \n13  USD          SX5E        SMI        SPX        NaN        NaN   3549.120   \n14  USD           FXI        NaN        NaN        NaN        NaN     33.840   \n15  USD           GLD        NaN        NaN        NaN        NaN    161.670   \n16  USD           GDX        NaN        NaN        NaN        NaN     27.323   \n17  USD          SX5E        SPX        NaN        NaN        NaN   4242.880   \n18  USD           DAX   FTSE MIB       IBEX        NaN        NaN   6300.520   \n\n    Unnamed: 10  Unnamed: 11  Unnamed: 12  Unnamed: 13 Launch Date  \\\n0           NaN          NaN          NaN          NaN  2022-01-11   \n1       7748.35      3861.59          NaN          NaN  2023-03-10   \n2      10632.05      3855.76          NaN          NaN  2023-03-13   \n3        460.02          NaN          NaN          NaN  2023-03-02   \n4       7478.09      4470.38          NaN          NaN  2022-01-21   \n5       7608.92      8718.00          NaN          NaN  2022-02-15   \n6        185.60        88.09        85.86        59.27  2021-11-10   \n7           NaN          NaN          NaN          NaN  2021-12-20   \n8      32428.80      8188.17          NaN          NaN  2022-02-24   \n9         72.28       425.48          NaN          NaN  2022-03-10   \n10     26844.72      4373.94          NaN          NaN  2022-02-28   \n11     26771.58      4348.87          NaN          NaN  2022-02-18   \n12      4288.70      3829.29          NaN          NaN  2022-02-24   \n13     10837.75      3793.15          NaN          NaN  2022-06-15   \n14          NaN          NaN          NaN          NaN  2022-06-24   \n15          NaN          NaN          NaN          NaN  2022-07-27   \n16          NaN          NaN          NaN          NaN  2022-08-10   \n17      3991.05          NaN          NaN          NaN  2023-02-22   \n18     27160.73      9227.30          NaN          NaN  2023-02-08   \n\n   Final Val. Day    Maturity    Cap  Barrier  \n0      2023-07-11  2023-07-18    NaN       70  \n1      2025-03-10  2025-03-17    NaN       70  \n2      2025-03-13  2025-03-20    NaN       70  \n3      2027-03-02  2027-02-09    NaN       65  \n4      2023-04-21  2028-04-28    NaN       65  \n5      2023-05-15  2023-05-30  120.0       70  \n6      2023-05-10  2023-05-24    NaN       60  \n7      2023-06-20  2023-07-05  120.5       75  \n8      2023-08-24  2023-09-07  120.0       65  \n9      2023-09-11  2023-09-25  125.0       70  \n10     2028-02-28  2028-03-06    NaN       60  \n11     2027-02-18  2027-02-25    NaN       60  \n12     2023-08-24  2023-08-31  120.0       65  \n13     2023-12-15  2023-12-22    NaN       65  \n14     2023-12-26  2024-01-03  120.0       70  \n15     2024-01-29  2024-02-05  115.0       70  \n16     2024-02-12  2024-02-20  130.0       70  \n17     2024-08-22  2024-08-29    NaN       70  \n18     2028-02-08  2028-02-15    NaN       65  ",
      "text/html": "<div>\n<style scoped>\n    .dataframe tbody tr th:only-of-type {\n        vertical-align: middle;\n    }\n\n    .dataframe tbody tr th {\n        vertical-align: top;\n    }\n\n    .dataframe thead th {\n        text-align: right;\n    }\n</style>\n<table border=\"1\" class=\"dataframe\">\n  <thead>\n    <tr style=\"text-align: right;\">\n      <th></th>\n      <th>File name</th>\n      <th>Isin</th>\n      <th>Issuer</th>\n      <th>Ccy</th>\n      <th>Underlying(s)</th>\n      <th>Unnamed: 5</th>\n      <th>Unnamed: 6</th>\n      <th>Unnamed: 7</th>\n      <th>Unnamed: 8</th>\n      <th>Strike</th>\n      <th>Unnamed: 10</th>\n      <th>Unnamed: 11</th>\n      <th>Unnamed: 12</th>\n      <th>Unnamed: 13</th>\n      <th>Launch Date</th>\n      <th>Final Val. Day</th>\n      <th>Maturity</th>\n      <th>Cap</th>\n      <th>Barrier</th>\n    </tr>\n  </thead>\n  <tbody>\n    <tr>\n      <th>0</th>\n      <td>AB3ZFW - RBC 18-Month EUR Twin Win Autocallabl...</td>\n      <td>XS1878076543</td>\n      <td>RBC</td>\n      <td>EUR</td>\n      <td>GLE</td>\n      <td>NaN</td>\n      <td>NaN</td>\n      <td>NaN</td>\n      <td>NaN</td>\n      <td>33.164</td>\n      <td>NaN</td>\n      <td>NaN</td>\n      <td>NaN</td>\n      <td>NaN</td>\n      <td>2022-01-11</td>\n      <td>2023-07-11</td>\n      <td>2023-07-18</td>\n      <td>NaN</td>\n      <td>70</td>\n    </tr>\n    <tr>\n      <th>1</th>\n      <td>AB5P75 - BNP 2-Year USD Bonus Certificate Wors...</td>\n      <td>XS2490610263</td>\n      <td>BNP</td>\n      <td>USD</td>\n      <td>SX5E</td>\n      <td>UKX</td>\n      <td>SPX</td>\n      <td>NaN</td>\n      <td>NaN</td>\n      <td>4229.530</td>\n      <td>7748.35</td>\n      <td>3861.59</td>\n      <td>NaN</td>\n      <td>NaN</td>\n      <td>2023-03-10</td>\n      <td>2025-03-10</td>\n      <td>2025-03-17</td>\n      <td>NaN</td>\n      <td>70</td>\n    </tr>\n    <tr>\n      <th>2</th>\n      <td>AB5PFT - BNP 2-Year USD Bonus Certificate Wors...</td>\n      <td>XS2490618670</td>\n      <td>BNP</td>\n      <td>USD</td>\n      <td>SX5E</td>\n      <td>SMI</td>\n      <td>SPX</td>\n      <td>NaN</td>\n      <td>NaN</td>\n      <td>4096.540</td>\n      <td>10632.05</td>\n      <td>3855.76</td>\n      <td>NaN</td>\n      <td>NaN</td>\n      <td>2023-03-13</td>\n      <td>2025-03-13</td>\n      <td>2025-03-20</td>\n      <td>NaN</td>\n      <td>70</td>\n    </tr>\n    <tr>\n      <th>3</th>\n      <td>EU2320735_20230302_XS2566031444_Decentia-USD-C...</td>\n      <td>XS2566031444</td>\n      <td>Citi</td>\n      <td>USD</td>\n      <td>RTY</td>\n      <td>SXXP</td>\n      <td>NaN</td>\n      <td>NaN</td>\n      <td>NaN</td>\n      <td>1902.659</td>\n      <td>460.02</td>\n      <td>NaN</td>\n      <td>NaN</td>\n      <td>NaN</td>\n      <td>2023-03-02</td>\n      <td>2027-03-02</td>\n      <td>2027-02-09</td>\n      <td>NaN</td>\n      <td>65</td>\n    </tr>\n    <tr>\n      <th>4</th>\n      <td>XS2021832634.pdf</td>\n      <td>XS2021832634</td>\n      <td>BNP</td>\n      <td>USD</td>\n      <td>SX5E</td>\n      <td>UKX</td>\n      <td>SPX</td>\n      <td>NaN</td>\n      <td>NaN</td>\n      <td>4209.630</td>\n      <td>7478.09</td>\n      <td>4470.38</td>\n      <td>NaN</td>\n      <td>NaN</td>\n      <td>2022-01-21</td>\n      <td>2023-04-21</td>\n      <td>2028-04-28</td>\n      <td>NaN</td>\n      <td>65</td>\n    </tr>\n    <tr>\n      <th>5</th>\n      <td>XS2033997748.pdf</td>\n      <td>XS2033997748</td>\n      <td>BNP</td>\n      <td>USD</td>\n      <td>DAX</td>\n      <td>UKX</td>\n      <td>IBEX</td>\n      <td>NaN</td>\n      <td>NaN</td>\n      <td>15412.710</td>\n      <td>7608.92</td>\n      <td>8718.00</td>\n      <td>NaN</td>\n      <td>NaN</td>\n      <td>2022-02-15</td>\n      <td>2023-05-15</td>\n      <td>2023-05-30</td>\n      <td>120.0</td>\n      <td>70</td>\n    </tr>\n    <tr>\n      <th>6</th>\n      <td>XS2317910607.pdf</td>\n      <td>XS2317910607</td>\n      <td>BNP</td>\n      <td>USD</td>\n      <td>RNO</td>\n      <td>VOW3</td>\n      <td>DAI</td>\n      <td>PAH3</td>\n      <td>GM</td>\n      <td>34.300</td>\n      <td>185.60</td>\n      <td>88.09</td>\n      <td>85.86</td>\n      <td>59.27</td>\n      <td>2021-11-10</td>\n      <td>2023-05-10</td>\n      <td>2023-05-24</td>\n      <td>NaN</td>\n      <td>60</td>\n    </tr>\n    <tr>\n      <th>7</th>\n      <td>XS2333422389.pdf</td>\n      <td>XS2333422389</td>\n      <td>BNP</td>\n      <td>USD</td>\n      <td>FTSE MIB</td>\n      <td>NaN</td>\n      <td>NaN</td>\n      <td>NaN</td>\n      <td>NaN</td>\n      <td>26177.760</td>\n      <td>NaN</td>\n      <td>NaN</td>\n      <td>NaN</td>\n      <td>NaN</td>\n      <td>2021-12-20</td>\n      <td>2023-06-20</td>\n      <td>2023-07-05</td>\n      <td>120.5</td>\n      <td>75</td>\n    </tr>\n    <tr>\n      <th>8</th>\n      <td>XS2355961215.pdf</td>\n      <td>XS2355961215</td>\n      <td>BNP</td>\n      <td>USD</td>\n      <td>DAX</td>\n      <td>INDU</td>\n      <td>IBEX</td>\n      <td>NaN</td>\n      <td>NaN</td>\n      <td>14026.920</td>\n      <td>32428.80</td>\n      <td>8188.17</td>\n      <td>NaN</td>\n      <td>NaN</td>\n      <td>2022-02-24</td>\n      <td>2023-08-24</td>\n      <td>2023-09-07</td>\n      <td>120.0</td>\n      <td>65</td>\n    </tr>\n    <tr>\n      <th>9</th>\n      <td>XS2358486194.pdf</td>\n      <td>XS2358486194</td>\n      <td>BNP</td>\n      <td>USD</td>\n      <td>XLV</td>\n      <td>XLP</td>\n      <td>SPY</td>\n      <td>NaN</td>\n      <td>NaN</td>\n      <td>129.910</td>\n      <td>72.28</td>\n      <td>425.48</td>\n      <td>NaN</td>\n      <td>NaN</td>\n      <td>2022-03-10</td>\n      <td>2023-09-11</td>\n      <td>2023-09-25</td>\n      <td>125.0</td>\n      <td>70</td>\n    </tr>\n    <tr>\n      <th>10</th>\n      <td>XS2424913601.pdf</td>\n      <td>XS2424913601</td>\n      <td>MS</td>\n      <td>USD</td>\n      <td>SX5E</td>\n      <td>NKY</td>\n      <td>SPX</td>\n      <td>NaN</td>\n      <td>NaN</td>\n      <td>3924.230</td>\n      <td>26844.72</td>\n      <td>4373.94</td>\n      <td>NaN</td>\n      <td>NaN</td>\n      <td>2022-02-28</td>\n      <td>2028-02-28</td>\n      <td>2028-03-06</td>\n      <td>NaN</td>\n      <td>60</td>\n    </tr>\n    <tr>\n      <th>11</th>\n      <td>XS2439264677.pdf</td>\n      <td>XS2439264677</td>\n      <td>Citi</td>\n      <td>USD</td>\n      <td>SX5E</td>\n      <td>NKY</td>\n      <td>SPX</td>\n      <td>NaN</td>\n      <td>NaN</td>\n      <td>4074.280</td>\n      <td>26771.58</td>\n      <td>4348.87</td>\n      <td>NaN</td>\n      <td>NaN</td>\n      <td>2022-02-18</td>\n      <td>2027-02-18</td>\n      <td>2027-02-25</td>\n      <td>NaN</td>\n      <td>60</td>\n    </tr>\n    <tr>\n      <th>12</th>\n      <td>XS2444480540.pdf</td>\n      <td>XS2444480540</td>\n      <td>GS</td>\n      <td>USD</td>\n      <td>UKX</td>\n      <td>SPX</td>\n      <td>SX5E</td>\n      <td>NaN</td>\n      <td>NaN</td>\n      <td>7207.380</td>\n      <td>4288.70</td>\n      <td>3829.29</td>\n      <td>NaN</td>\n      <td>NaN</td>\n      <td>2022-02-24</td>\n      <td>2023-08-24</td>\n      <td>2023-08-31</td>\n      <td>120.0</td>\n      <td>65</td>\n    </tr>\n    <tr>\n      <th>13</th>\n      <td>XS2472707103.pdf</td>\n      <td>XS2472707103</td>\n      <td>RBC</td>\n      <td>USD</td>\n      <td>SX5E</td>\n      <td>SMI</td>\n      <td>SPX</td>\n      <td>NaN</td>\n      <td>NaN</td>\n      <td>3549.120</td>\n      <td>10837.75</td>\n      <td>3793.15</td>\n      <td>NaN</td>\n      <td>NaN</td>\n      <td>2022-06-15</td>\n      <td>2023-12-15</td>\n      <td>2023-12-22</td>\n      <td>NaN</td>\n      <td>65</td>\n    </tr>\n    <tr>\n      <th>14</th>\n      <td>XS2474851479.pdf</td>\n      <td>XS2474851479</td>\n      <td>Citi</td>\n      <td>USD</td>\n      <td>FXI</td>\n      <td>NaN</td>\n      <td>NaN</td>\n      <td>NaN</td>\n      <td>NaN</td>\n      <td>33.840</td>\n      <td>NaN</td>\n      <td>NaN</td>\n      <td>NaN</td>\n      <td>NaN</td>\n      <td>2022-06-24</td>\n      <td>2023-12-26</td>\n      <td>2024-01-03</td>\n      <td>120.0</td>\n      <td>70</td>\n    </tr>\n    <tr>\n      <th>15</th>\n      <td>XS2493928639.pdf</td>\n      <td>XS2493928639</td>\n      <td>Citi</td>\n      <td>USD</td>\n      <td>GLD</td>\n      <td>NaN</td>\n      <td>NaN</td>\n      <td>NaN</td>\n      <td>NaN</td>\n      <td>161.670</td>\n      <td>NaN</td>\n      <td>NaN</td>\n      <td>NaN</td>\n      <td>NaN</td>\n      <td>2022-07-27</td>\n      <td>2024-01-29</td>\n      <td>2024-02-05</td>\n      <td>115.0</td>\n      <td>70</td>\n    </tr>\n    <tr>\n      <th>16</th>\n      <td>XS2497687744.pdf</td>\n      <td>XS2497687744</td>\n      <td>RBCD</td>\n      <td>USD</td>\n      <td>GDX</td>\n      <td>NaN</td>\n      <td>NaN</td>\n      <td>NaN</td>\n      <td>NaN</td>\n      <td>27.323</td>\n      <td>NaN</td>\n      <td>NaN</td>\n      <td>NaN</td>\n      <td>NaN</td>\n      <td>2022-08-10</td>\n      <td>2024-02-12</td>\n      <td>2024-02-20</td>\n      <td>130.0</td>\n      <td>70</td>\n    </tr>\n    <tr>\n      <th>17</th>\n      <td>XS2565974388_USD-TwinWin-18M-.SPX^M.STOXX50E-F...</td>\n      <td>XS2565974388</td>\n      <td>Citi</td>\n      <td>USD</td>\n      <td>SX5E</td>\n      <td>SPX</td>\n      <td>NaN</td>\n      <td>NaN</td>\n      <td>NaN</td>\n      <td>4242.880</td>\n      <td>3991.05</td>\n      <td>NaN</td>\n      <td>NaN</td>\n      <td>NaN</td>\n      <td>2023-02-22</td>\n      <td>2024-08-22</td>\n      <td>2024-08-29</td>\n      <td>NaN</td>\n      <td>70</td>\n    </tr>\n    <tr>\n      <th>18</th>\n      <td>XS2575193920 (TS) - 5y USD Autocallable Note o...</td>\n      <td>XS2575193920</td>\n      <td>MS</td>\n      <td>USD</td>\n      <td>DAX</td>\n      <td>FTSE MIB</td>\n      <td>IBEX</td>\n      <td>NaN</td>\n      <td>NaN</td>\n      <td>6300.520</td>\n      <td>27160.73</td>\n      <td>9227.30</td>\n      <td>NaN</td>\n      <td>NaN</td>\n      <td>2023-02-08</td>\n      <td>2028-02-08</td>\n      <td>2028-02-15</td>\n      <td>NaN</td>\n      <td>65</td>\n    </tr>\n  </tbody>\n</table>\n</div>"
     },
     "execution_count": 6,
     "metadata": {},
     "output_type": "execute_result"
    }
   ],
   "source": [
    "csv_ground_truth"
   ],
   "metadata": {
    "collapsed": false,
    "ExecuteTime": {
     "end_time": "2023-11-19T12:21:13.418910Z",
     "start_time": "2023-11-19T12:21:13.403976Z"
    }
   }
  },
  {
   "cell_type": "code",
   "execution_count": 12,
   "outputs": [
    {
     "data": {
      "text/plain": "Index(['File name', 'Isin', 'Issuer', 'Ccy', 'Underlying(s)', 'Unnamed: 5',\n       'Unnamed: 6', 'Unnamed: 7', 'Unnamed: 8', 'Strike', 'Unnamed: 10',\n       'Unnamed: 11', 'Unnamed: 12', 'Unnamed: 13', 'Launch Date',\n       'Final Val. Day', 'Maturity', 'Cap', 'Barrier'],\n      dtype='object')"
     },
     "execution_count": 12,
     "metadata": {},
     "output_type": "execute_result"
    }
   ],
   "source": [
    "csv_ground_truth.columns\n"
   ],
   "metadata": {
    "collapsed": false,
    "ExecuteTime": {
     "end_time": "2023-11-19T14:35:55.895634Z",
     "start_time": "2023-11-19T14:35:55.891826Z"
    }
   }
  },
  {
   "cell_type": "code",
   "execution_count": 11,
   "outputs": [
    {
     "ename": "SyntaxError",
     "evalue": "invalid syntax (3660635433.py, line 3)",
     "output_type": "error",
     "traceback": [
      "\u001B[0;36m  Cell \u001B[0;32mIn[11], line 3\u001B[0;36m\u001B[0m\n\u001B[0;31m    I need to take a document, pass it through the OCR,\u001B[0m\n\u001B[0m      ^\u001B[0m\n\u001B[0;31mSyntaxError\u001B[0m\u001B[0;31m:\u001B[0m invalid syntax\n"
     ]
    }
   ],
   "source": [
    "# ok say that I am doing a pipeline for a document:\n",
    "\n",
    "I need to take a document, pass it through the OCR,\n",
    "- take the name of the document add it in the column \"name\"\n",
    "- pass it through the OCR pipeline, save it in OCR_timestamp_folder\n",
    "- then for the list of columns we have:\n",
    "    create a subpipeline for each one.\n",
    "        So for example:\n",
    "            we have a json output of the OCR,\n",
    "            lets begin pipeline Isin."
   ],
   "metadata": {
    "collapsed": false,
    "ExecuteTime": {
     "end_time": "2023-11-19T14:35:18.768179Z",
     "start_time": "2023-11-19T14:35:18.766064Z"
    }
   }
  },
  {
   "cell_type": "code",
   "execution_count": null,
   "outputs": [],
   "source": [],
   "metadata": {
    "collapsed": false
   }
  }
 ],
 "metadata": {
  "kernelspec": {
   "display_name": "Python 3",
   "language": "python",
   "name": "python3"
  },
  "language_info": {
   "codemirror_mode": {
    "name": "ipython",
    "version": 2
   },
   "file_extension": ".py",
   "mimetype": "text/x-python",
   "name": "python",
   "nbconvert_exporter": "python",
   "pygments_lexer": "ipython2",
   "version": "2.7.6"
  }
 },
 "nbformat": 4,
 "nbformat_minor": 0
}
