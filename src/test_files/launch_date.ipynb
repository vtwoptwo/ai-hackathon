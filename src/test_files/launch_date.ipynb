{
 "cells": [
  {
   "cell_type": "code",
   "execution_count": 1,
   "metadata": {},
   "outputs": [
    {
     "data": {
      "text/plain": [
       "True"
      ]
     },
     "execution_count": 1,
     "metadata": {},
     "output_type": "execute_result"
    }
   ],
   "source": [
    "from langchain import OpenAI, PromptTemplate\n",
    "from langchain.callbacks import get_openai_callback\n",
    "from dotenv import load_dotenv\n",
    "import json\n",
    "from langchain.text_splitter import CharacterTextSplitter\n",
    "from langchain.vectorstores import FAISS\n",
    "from langchain.embeddings import OpenAIEmbeddings\n",
    "import re\n",
    "\n",
    "load_dotenv()\n"
   ]
  },
  {
   "cell_type": "code",
   "execution_count": 64,
   "metadata": {},
   "outputs": [],
   "source": [
    "# document_path = \"../data_0611/OCR_output/XS2021832634.json\"\n",
    "document_path = \"../data_0611/OCR_output/EU2320735_20230302_XS2566031444_Decentia-USD-COBA Memory-48M-.RUT+.STOXX-Final.json\"\n"
   ]
  },
  {
   "cell_type": "code",
   "execution_count": 62,
   "metadata": {},
   "outputs": [],
   "source": [
    "llm = OpenAI(\n",
    "        model=\"gpt-3.5-turbo-instruct\",\n",
    "        temperature=0.5\n",
    "    )\n"
   ]
  },
  {
   "cell_type": "code",
   "execution_count": 65,
   "metadata": {},
   "outputs": [],
   "source": [
    "with open(document_path, 'r') as f:\n",
    "    loaded_json = json.load(f)\n"
   ]
  },
  {
   "cell_type": "code",
   "execution_count": 66,
   "metadata": {},
   "outputs": [],
   "source": [
    "json_key_value_pairs = loaded_json['key-value_pairs']\n"
   ]
  },
  {
   "cell_type": "code",
   "execution_count": null,
   "metadata": {},
   "outputs": [],
   "source": [
    "synonyms = ['Launch Date', 'Trade Date']\n"
   ]
  },
  {
   "cell_type": "code",
   "execution_count": 67,
   "metadata": {},
   "outputs": [],
   "source": [
    "for i in synonyms:\n",
    "\n",
    "    launch_date = json_key_value_pairs.get(i)\n",
    "\n",
    "    if launch_date:\n",
    "\n",
    "        break\n",
    "\n",
    "try:\n",
    "    launch_date = launch_date[0]\n",
    "except TypeError as e:\n",
    "    print(e)\n"
   ]
  },
  {
   "cell_type": "code",
   "execution_count": 68,
   "metadata": {},
   "outputs": [
    {
     "data": {
      "text/plain": [
       "'2 March 2023'"
      ]
     },
     "execution_count": 68,
     "metadata": {},
     "output_type": "execute_result"
    }
   ],
   "source": [
    "launch_date\n"
   ]
  },
  {
   "cell_type": "code",
   "execution_count": 69,
   "metadata": {},
   "outputs": [],
   "source": [
    "full_text = loaded_json['full_text']\n"
   ]
  },
  {
   "cell_type": "code",
   "execution_count": 70,
   "metadata": {},
   "outputs": [],
   "source": [
    "text_splitter = CharacterTextSplitter(chunk_size=1000, chunk_overlap=0, separator=\" \")\n",
    "texts = text_splitter.split_text(full_text)\n"
   ]
  },
  {
   "cell_type": "code",
   "execution_count": 71,
   "metadata": {},
   "outputs": [],
   "source": [
    "embeddings = OpenAIEmbeddings()\n",
    "db = FAISS.from_texts(texts, embeddings)\n"
   ]
  },
  {
   "cell_type": "code",
   "execution_count": 72,
   "metadata": {},
   "outputs": [],
   "source": [
    "retriever = db.as_retriever(search_kwargs={\"k\": 4})\n",
    "docs = retriever.get_relevant_documents(\"What is the launch date of this term sheet?\")\n"
   ]
  },
  {
   "cell_type": "code",
   "execution_count": 73,
   "metadata": {},
   "outputs": [],
   "source": [
    "prompt = PromptTemplate.from_template(\n",
    "    \"Take a deep breath and relax. Think step by step.\"\n",
    "    \"I have the following  document of a term sheet\"\n",
    "    \"I need to find the Launch Date (which is the date that the product begins trading)\"\n",
    "    \"The format of the launch date is usually in dd/mm/yyyy, mm/dd/yyyy, yyyy/mm/dd, or in natural language using the name of the month.\"\n",
    "    \"It is also sometimes called `Trade Date`\"\n",
    "    \"It is really important that you get this right, because my life depends on it!\\n\"\n",
    "    \"Example:\"\n",
    "    \"Context: Launch date 3rd July 2020\"\n",
    "    \"Launch Date: 03/07/2020\"\n",
    "    \"Example:\"\n",
    "    \"Context: Launch date 2018.03.01\"\n",
    "    \"Launch Date: 01/03/2018\"\n",
    "\n",
    "    \"I am going to give you a chunk of text, and you need to tell me what is the launch date of the document\\n\\n\"\n",
    "    \"You must return it in the correct date format dd/mm/yyyy and only return this value.\"\n",
    "\n",
    "    \"Context:{context}\\n\"\n",
    "    \"Launch Date: <your answer here>\"\n",
    ")\n"
   ]
  },
  {
   "cell_type": "code",
   "execution_count": 75,
   "metadata": {},
   "outputs": [],
   "source": [
    "full_context = ''\n",
    "for doc in docs:\n",
    "    full_context += '\\n' + doc.page_content\n",
    "if launch_date:\n",
    "    try:\n",
    "        launch_date_confidence = json_key_value_pairs['Launch Date'][1]\n",
    "    except KeyError:\n",
    "        launch_date_confidence = json_key_value_pairs['Trade Date'][1]\n",
    "    full_context += '\\n' + f' I also did an OCR anaysis and found Launch Date: {launch_date} with a confidence of {launch_date_confidence}'\n"
   ]
  },
  {
   "cell_type": "code",
   "execution_count": 77,
   "metadata": {},
   "outputs": [],
   "source": [
    "final_prompt = prompt.format(context=full_context)\n",
    "result = llm.invoke(final_prompt)\n"
   ]
  },
  {
   "cell_type": "code",
   "execution_count": 85,
   "metadata": {},
   "outputs": [
    {
     "data": {
      "text/plain": [
       "'\\n\\nBased on the context and information provided, the launch date of the document is 3 March 2023. It is mentioned in the section \"The Offering Prospectus as well as the Guarantee can be obtained free of charge electronically or physically at the offices of the Guarantor and Arranger’s branch in Switzerland\" and is also mentioned as the \"Payment Date\" in the section \"Summary of Terms and Conditions\". The correct format for the launch date is dd/mm/yyyy, so the launch date is 03/03/2023.'"
      ]
     },
     "execution_count": 85,
     "metadata": {},
     "output_type": "execute_result"
    }
   ],
   "source": [
    "result\n"
   ]
  },
  {
   "cell_type": "code",
   "execution_count": 162,
   "metadata": {},
   "outputs": [],
   "source": [
    "re_pattern = r'/.*?((0[1-9]|[12][0-9]|3[01])\\/(0[1-9]|1[0-2])\\/([0-9]{4})).*?'\n",
    "\n",
    "matches = re.findall(re_pattern, result)\n"
   ]
  },
  {
   "cell_type": "code",
   "execution_count": null,
   "metadata": {},
   "outputs": [],
   "source": [
    "if matches:\n",
    "    launch_date = matches[0][0]\n"
   ]
  }
 ],
 "metadata": {
  "kernelspec": {
   "display_name": "ai-hackathon",
   "language": "python",
   "name": "python3"
  },
  "language_info": {
   "codemirror_mode": {
    "name": "ipython",
    "version": 3
   },
   "file_extension": ".py",
   "mimetype": "text/x-python",
   "name": "python",
   "nbconvert_exporter": "python",
   "pygments_lexer": "ipython3",
   "version": "3.10.6"
  }
 },
 "nbformat": 4,
 "nbformat_minor": 2
}
