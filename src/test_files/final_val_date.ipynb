{
 "cells": [
  {
   "cell_type": "code",
   "execution_count": 1,
   "metadata": {},
   "outputs": [
    {
     "data": {
      "text/plain": [
       "True"
      ]
     },
     "execution_count": 1,
     "metadata": {},
     "output_type": "execute_result"
    }
   ],
   "source": [
    "from langchain import OpenAI, PromptTemplate\n",
    "from langchain.callbacks import get_openai_callback\n",
    "from dotenv import load_dotenv\n",
    "import json\n",
    "from langchain.text_splitter import CharacterTextSplitter\n",
    "from langchain.vectorstores import FAISS\n",
    "from langchain.embeddings import OpenAIEmbeddings\n",
    "import re\n",
    "\n",
    "load_dotenv()\n"
   ]
  },
  {
   "cell_type": "code",
   "execution_count": 5,
   "metadata": {},
   "outputs": [],
   "source": [
    "llm = OpenAI(\n",
    "        model=\"gpt-3.5-turbo-instruct\",\n",
    "        temperature=0.5\n",
    "    )\n"
   ]
  },
  {
   "cell_type": "code",
   "execution_count": 2,
   "metadata": {},
   "outputs": [],
   "source": [
    "from os import listdir\n",
    "\n",
    "jsons = [i for i in listdir('/Users/waterdamage123/Documents/GitHub/ai-hackathon/data_0611/OCR_output') if i.split('.')[-1]=='json']\n"
   ]
  },
  {
   "cell_type": "code",
   "execution_count": 11,
   "metadata": {},
   "outputs": [
    {
     "name": "stdout",
     "output_type": "stream",
     "text": [
      "XS2444480540.json\n",
      "August 31, 2023 \n",
      "\n",
      "XS2424913601.json\n",
      "28 February 2028 \n",
      "\n",
      "XS2474851479.json\n",
      "26 December 2023 \n",
      "\n",
      "XS2033997748.json\n",
      "May 30th, 2023 \n",
      "\n",
      "XS2565974388_USD-TwinWin-18M-.SPX^M.STOXX50E-Final.json\n",
      "22 August 2024 \n",
      "\n",
      "XS2439264677.json\n",
      "'NoneType' object is not subscriptable\n",
      "None \n",
      "\n",
      "AB5PFT - BNP 2-Year USD Bonus Certificate Worst-Of on Euro Stoxx 50 Price EUR Swiss Market Index and SP 500.json\n",
      "'NoneType' object is not subscriptable\n",
      "None \n",
      "\n",
      "XS2493928639.json\n",
      "29 January 2024 \n",
      "\n",
      "XS2317910607.json\n",
      "May 10th, 2023 \n",
      "\n",
      "AB3ZFW - RBC 18-Month EUR Twin Win Autocallable on Societe Generale SA.json\n",
      "11 July 2023 \n",
      "\n",
      "XS2575193920 (TS) - 5y USD Autocallable Note on DAXK FTSEMIB IBEX (EN).json\n",
      "8 February 2028 \n",
      "\n",
      "XS2472707103.json\n",
      "15 December 2023 \n",
      "\n",
      "XS2355961215.json\n",
      "'NoneType' object is not subscriptable\n",
      "None \n",
      "\n",
      "XS2358486194.json\n",
      "'NoneType' object is not subscriptable\n",
      "None \n",
      "\n",
      "XS2333422389.json\n",
      "'NoneType' object is not subscriptable\n",
      "None \n",
      "\n",
      "XS2021832634.json\n",
      "21.04.2023 \n",
      "\n",
      "EU2320735_20230302_XS2566031444_Decentia-USD-COBA Memory-48M-.RUT+.STOXX-Final.json\n",
      "2 March 2027 \n",
      "\n",
      "XS2497687744.json\n",
      "12 February 2024 \n",
      "\n",
      "AB5P75 - BNP 2-Year USD Bonus Certificate Worst-Of on Euro Stoxx 50 Price EUR, FTSE 100 Index and S_P 500.json\n",
      "'NoneType' object is not subscriptable\n",
      "None \n",
      "\n"
     ]
    }
   ],
   "source": [
    "for i in jsons:\n",
    "\n",
    "    print(i)\n",
    "\n",
    "    document_path = f\"../data_0611/OCR_output/{i}\"\n",
    "\n",
    "    with open(document_path, 'r') as f:\n",
    "        loaded_json = json.load(f)\n",
    "\n",
    "    json_key_value_pairs = loaded_json['key-value_pairs']\n",
    "\n",
    "    synonyms = ['Final Valuation Date', 'Redemption Valuation Date', 'Redemption Date', 'Determination Date']\n",
    "\n",
    "    for i in synonyms:\n",
    "\n",
    "        final_val_date = json_key_value_pairs.get(i)\n",
    "\n",
    "        if final_val_date:\n",
    "\n",
    "            break\n",
    "\n",
    "    try:\n",
    "        final_val_date = final_val_date[0]\n",
    "    except TypeError as e:\n",
    "        print(e)\n",
    "\n",
    "    print(final_val_date,'\\n')\n"
   ]
  },
  {
   "cell_type": "code",
   "execution_count": 12,
   "metadata": {},
   "outputs": [],
   "source": [
    "full_text = loaded_json['full_text']\n"
   ]
  },
  {
   "cell_type": "code",
   "execution_count": 13,
   "metadata": {},
   "outputs": [],
   "source": [
    "text_splitter = CharacterTextSplitter(chunk_size=1000, chunk_overlap=0, separator=\" \")\n",
    "texts = text_splitter.split_text(full_text)\n"
   ]
  },
  {
   "cell_type": "code",
   "execution_count": 14,
   "metadata": {},
   "outputs": [],
   "source": [
    "embeddings = OpenAIEmbeddings()\n",
    "db = FAISS.from_texts(texts, embeddings)\n"
   ]
  },
  {
   "cell_type": "code",
   "execution_count": 15,
   "metadata": {},
   "outputs": [],
   "source": [
    "retriever = db.as_retriever(search_kwargs={\"k\": 4})\n",
    "docs = retriever.get_relevant_documents(\"What is the final valuation date, redemption date, or determination date of this term sheet?\")\n"
   ]
  },
  {
   "cell_type": "code",
   "execution_count": 16,
   "metadata": {},
   "outputs": [],
   "source": [
    "prompt = PromptTemplate.from_template(\n",
    "    \"Take a deep breath and relax. Think step by step.\"\n",
    "    \"I have the following  document of a term sheet\"\n",
    "    \"I need to find the Final Valuation Date (which is the last day that the product trades or is valid.)\"\n",
    "    \"The format of the Final Valuation Date is usually in dd/mm/yyyy, mm/dd/yyyy, yyyy/mm/dd, or in natural language using the name of the month.\"\n",
    "    \"It is also sometimes called `Determination Date` or `Redemption Valuation Date`\"\n",
    "    \"It is really important that you get this right, because my life depends on it!\\n\"\n",
    "    \"Example:\"\n",
    "    \"Context: Final Valuation Date 3rd July 2020\"\n",
    "    \"Final Valuation Date: 03/07/2020\"\n",
    "    \"Example:\"\n",
    "    \"Context: Final Valuation Date 2018.03.01\"\n",
    "    \"Final Valuation Date: 01/03/2018\"\n",
    "\n",
    "    \"I am going to give you a chunk of text, and you need to tell me which one is the Final Valuation Date of the document\\n\\n\"\n",
    "    \"You must return it in the correct date format: dd/mm/yyyy and only return this value\"\n",
    "\n",
    "    \"Context:{context}\\n\"\n",
    "    \"Final Valuation Date: <your answer here>\"\n",
    ")\n"
   ]
  },
  {
   "cell_type": "code",
   "execution_count": 17,
   "metadata": {},
   "outputs": [],
   "source": [
    "full_context = ''\n",
    "for doc in docs:\n",
    "    full_context += '\\n' + doc.page_content\n",
    "if final_val_date:\n",
    "    try:\n",
    "        final_val_date_confidence = json_key_value_pairs['Final Valuation Date'][1]\n",
    "    except KeyError:\n",
    "        final_val_date_confidence = json_key_value_pairs['Trade Date'][1]\n",
    "    full_context += '\\n' + f' I also did an OCR anaysis and found Final Valuation Date: {final_val_date} with a confidence of {final_val_date_confidence}'\n"
   ]
  },
  {
   "cell_type": "code",
   "execution_count": 25,
   "metadata": {},
   "outputs": [
    {
     "name": "stdout",
     "output_type": "stream",
     "text": [
      "\n",
      "Underlying closes below its Knock-out Price on the Redemption Valuation Date, the conditional protection is terminated and the product will be redeemed by cash settlement at theofficial closing price of the Underlying on the Redemption Valuation Date. In the event that the Certificates are redeemed early as a consequence of force majeure, illegality or certain other events affecting the Underlying(s) and/or hedge, Holders may receive an amount per Certificate equal to the fair market value of each Certificate less the cost to the Issuer and/or its affiliates of unwinding any underlying related hedging arrangements. Such amount may be less than the Notional Amount or even zero.\n",
      "Risk Tolerance\n",
      "Holders of this product should be experienced and familiar with both derivative products and the Underlying. Holders must be willing to make an investment that is exposed to the full down-side risk of the Underlying. Holders do not require capital protection.\n",
      "Date\n",
      "March 10th, 2023\n",
      "Strike Date\n",
      "March 10th, 2023\n",
      "Issue Date\n",
      "March 17th, 2023\n",
      "Redemption Valuation\n",
      "March 10th, 2025\n",
      "Date\n",
      "Redemption Date\n",
      "March 17th, 2025\n",
      "________________________________________________________________________________________________________________________________________________________________________________________\n",
      "Underlying Indices\n",
      "i\n",
      "Name of Underlying Indexi\n",
      "Bloomberg Code\n",
      "Indexi Initial\n",
      "Administrator\n",
      "Register\n",
      "1\n",
      "EURO STOXX 50\n",
      "SX5E\n",
      "4229.53\n",
      "STOXX Ltd.\n",
      "Included\n",
      "2\n",
      "FTSE100\n",
      "UKX\n",
      "7748.35\n",
      "FTSE International Limited\n",
      "Included\n",
      "3\n",
      "S&P 500®\n",
      "SPX\n",
      "3861.59\n",
      "S&P Dow Jones Indices LLC\n",
      "Included\n",
      "Final Redemption\n",
      "On the Redemption Date, the Issuer shall redeem each Certificate at the following Cash Settlement Amount:\n",
      "1) If a Knock-out Event has not occurred:\n",
      "2) If a Knock-out Event has occurred:\n",
      "Where\n",
      "WO Index is the Underlying Index with the worst performance from the Strike Date to the Redemption Valuation Date, defined as: 3 IndexFinal\n",
      "WO IndexInitial is the official closing level\n",
      "shall calculate the fair market value of each Certificate less the cost to the Issuer and/or its affiliates of unwinding any underlying related hedging arrangements, all as determined by the Calculation Agent in its sole and absolute discretion. Payment will be made in such manner as shall be notified to Holders in accordance with the Condition 10 of the Base Prospectus. The amount Holders receive as a consequence of such early redemption may be less than the Notional Amount per Certificate or even zero. Holders who choose to reinvest monies received as a consequence of early redemption of the Certificates may be able to do so only in securities with a lower yield than the redeemed Certificates.\n",
      "Issuer and Guarantor Risk\n",
      "Certificates are unsecured obligations: The Certificates retention of value is dependent not only on the development of the value of the Underlying(s), but also the creditworthiness of the Issuer and the Guarantor, which may change over the term of the product. The\n",
      "of WO Index on the Strike Date.\n",
      "WO IndexFinal is the official closing level of WO Index on the Redemption Valuation Date.\n",
      "Indexi Initial with i from 1 to 3 is the official closing level of the Indexi\n",
      "on the Strike Date.\n",
      "N x max 121.70%, WO IndexFinal WO Index Initial -)\n",
      "Nx\n",
      "WO IndexFinal\n",
      "WO IndexInitial\n",
      "min IndexInitial\n",
      "2\n",
      "Equity Derivatives Solutions\n",
      "BNP PARIBAS CORPORATE & INSTITUTIONAL BANKING\n",
      "- The bank for a changing world\n",
      "Indexi Final with i from 1 to 3 is the official closing level of the Indexi\n",
      "on the Redemption\n",
      "Valuation Date.\n",
      "Knock-out Level\n",
      "EURO STOXX 50® - 2,960.6710 (70% of Index1 Initial) FTSE100 - 5,423.8450 (70% of Index2 Initial) S&P 500® - 2,703.1130 (70% of Index3 Initial)\n",
      "Knock-out Determination Day\n",
      "The Redemption Valuation Date.\n",
      "Knock-out Valuation Time\n",
      "Specific Scheduled Closing Time of each Underlying Index on the Redemption Valuation Date.\n",
      "Knock-out Event\n",
      "A Knock-out Event shall be deemed to occur if, at the Knock-out Valuation Time on the Knock- out Determination\n"
     ]
    }
   ],
   "source": [
    "print(full_context)\n"
   ]
  },
  {
   "cell_type": "code",
   "execution_count": 18,
   "metadata": {},
   "outputs": [],
   "source": [
    "final_prompt = prompt.format(context=full_context)\n",
    "result = llm.invoke(final_prompt)\n"
   ]
  },
  {
   "cell_type": "code",
   "execution_count": 19,
   "metadata": {},
   "outputs": [],
   "source": [
    "re_pattern = r'((0[1-9]|[12][0-9]|3[01])\\/(0[1-9]|1[0-2])\\/([0-9]{4}))'\n",
    "\n",
    "matches = re.findall(re_pattern, result)\n"
   ]
  },
  {
   "cell_type": "code",
   "execution_count": 20,
   "metadata": {},
   "outputs": [],
   "source": [
    "if matches:\n",
    "    final_val_date = matches[0][0]\n",
    "else:\n",
    "    final_val_date = None\n"
   ]
  },
  {
   "cell_type": "code",
   "execution_count": 22,
   "metadata": {},
   "outputs": [
    {
     "data": {
      "text/plain": [
       "'\\nFinal Valuation Date: 17/03/2025'"
      ]
     },
     "execution_count": 22,
     "metadata": {},
     "output_type": "execute_result"
    }
   ],
   "source": [
    "result\n"
   ]
  },
  {
   "cell_type": "code",
   "execution_count": 23,
   "metadata": {},
   "outputs": [
    {
     "data": {
      "text/plain": [
       "'../data_0611/OCR_output/AB5P75 - BNP 2-Year USD Bonus Certificate Worst-Of on Euro Stoxx 50 Price EUR, FTSE 100 Index and S_P 500.json'"
      ]
     },
     "execution_count": 23,
     "metadata": {},
     "output_type": "execute_result"
    }
   ],
   "source": [
    "document_path\n"
   ]
  },
  {
   "cell_type": "code",
   "execution_count": 21,
   "metadata": {},
   "outputs": [
    {
     "data": {
      "text/plain": [
       "'17/03/2025'"
      ]
     },
     "execution_count": 21,
     "metadata": {},
     "output_type": "execute_result"
    }
   ],
   "source": [
    "final_val_date\n"
   ]
  },
  {
   "cell_type": "code",
   "execution_count": null,
   "metadata": {},
   "outputs": [],
   "source": []
  }
 ],
 "metadata": {
  "kernelspec": {
   "display_name": "ai-hackathon",
   "language": "python",
   "name": "python3"
  },
  "language_info": {
   "codemirror_mode": {
    "name": "ipython",
    "version": 3
   },
   "file_extension": ".py",
   "mimetype": "text/x-python",
   "name": "python",
   "nbconvert_exporter": "python",
   "pygments_lexer": "ipython3",
   "version": "3.10.6"
  }
 },
 "nbformat": 4,
 "nbformat_minor": 2
}
